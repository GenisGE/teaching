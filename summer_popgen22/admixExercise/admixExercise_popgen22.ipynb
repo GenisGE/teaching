{
 "cells": [
  {
   "cell_type": "markdown",
   "id": "b6b873e9",
   "metadata": {
    "kernel": "SoS"
   },
   "source": [
    "# Exercise: Inference of admixture and population structure\n",
    "\n",
    "## A. Use of NGSadmix to infer admixture proportions for numerous individuals\n",
    "\n",
    "In this exercise we will try to use NGSadmix to analyze a NGS dataset.\n",
    "\n",
    "###  Login to the server and set paths\n"
   ]
  },
  {
   "cell_type": "code",
   "execution_count": null,
   "id": "435b3898",
   "metadata": {
    "kernel": "Bash"
   },
   "outputs": [],
   "source": [
    "# Set path to ANGSD program\n",
    "ANGSD=/home/ida/teaching/popgen19/admixexercise/programs/angsd\n",
    "\n",
    "# Set path to NGSadmix\n",
    "NGSadmix=/home/ida/teaching/popgen19/admixexercise/programs/NGSadmix\n",
    "\n",
    "# Set path to a bam file list with several bam files\n",
    "BAMFOLDER=/ricco/data/genis/popgen22/admixexercise/smallbams"
   ]
  },
  {
   "cell_type": "markdown",
   "id": "6dad48d2",
   "metadata": {
    "kernel": "Bash"
   },
   "source": [
    "## First small example\n",
    "\n",
    "We will first try to run an NGSadmix analysis of a small dataset consisting of bam files with low depth NGS data from 435 samples of 5 human populations from the 1000 genomes project:\n",
    "\n",
    "\n",
    "| Population code | Population                                     | Sample size |\n",
    "|-----------------|------------------------------------------------|-------------|\n",
    "| ASW             | HapMap African ancestry individuals from SW US | 61          |\n",
    "| CEU             | European individuals                           | 99          |\n",
    "| CHB             | Han Chinese in Beijing                         | 103         |\n",
    "| YRI             | Yoruba individuals from Nigeria                | 108         |\n",
    "| MXL             | Mexican individuals from LA California         | 63          |\n",
    "\n",
    "\n",
    "### Make input data using ANGSD\n",
    "\n",
    "The input to NGSadmix is genotype likelihoods (GLs). Therefore the first step of running an NGSadmix analysis (if all you have are bams files) is to calculate GLs. So let's start bying doing that. First make a file that contains the paths of all the 30 bam files:"
   ]
  },
  {
   "cell_type": "code",
   "execution_count": null,
   "id": "394135c5",
   "metadata": {
    "kernel": "Bash"
   },
   "outputs": [],
   "source": [
    "find $BAMFOLDER |  grep bam$ > all.files"
   ]
  },
  {
   "cell_type": "markdown",
   "id": "72af3bdf",
   "metadata": {
    "kernel": "Bash"
   },
   "source": [
    "To see the content of the file you made type:"
   ]
  },
  {
   "cell_type": "code",
   "execution_count": null,
   "id": "eb840101",
   "metadata": {
    "kernel": "Bash"
   },
   "outputs": [],
   "source": [
    "cat all.files"
   ]
  },
  {
   "cell_type": "markdown",
   "id": "6639899c",
   "metadata": {
    "kernel": "Bash"
   },
   "source": [
    "Now calculate GLs from all the BAM files using ANGSD by running the following command in the terminal:"
   ]
  },
  {
   "cell_type": "code",
   "execution_count": null,
   "id": "db2e6556",
   "metadata": {
    "kernel": "Bash",
    "scrolled": true
   },
   "outputs": [],
   "source": [
    "$ANGSD -bam all.files -GL 2 -doMajorMinor 1 -doMaf 1 -SNP_pval 2e-6 -minMapQ 30 -minQ 20 -minInd 25 -minMaf 0.05 -doGlf 2 -out all -P 5"
   ]
  },
  {
   "cell_type": "markdown",
   "id": "eaaa5216",
   "metadata": {
    "kernel": "Bash"
   },
   "source": [
    "NOTE that this will take a bit of time to run (around a minute). While waiting, try to remember what the different options used mean (you have seen most of them in previous exercises). If you do not remember all of them, then try to ask the person next to you. And if neither of you remember then try to figure it out by looking for help on the ANGSD webpage e.g. [here](http://www.popgen.dk/angsd/index.php/Genotype_Likelihoods), [here](http://www.popgen.dk/angsd/index.php/Major_Minor) and [here](http://www.popgen.dk/angsd/index.php/Filters).\n",
    "\n",
    "If ANGSD hasn't finished running yet and you are tired of waiting for it to do so, then stop it (by typing Ctrl-C) and copy the resulting files (pre-made by us) by typing:"
   ]
  },
  {
   "cell_type": "code",
   "execution_count": null,
   "id": "e7847c55",
   "metadata": {
    "kernel": "Bash"
   },
   "outputs": [],
   "source": [
    "cp /ricco/data/genis/popgen22/admixexercise/smalladmix/input/all.* ."
   ]
  },
  {
   "cell_type": "markdown",
   "id": "73ad3883",
   "metadata": {
    "kernel": "Bash"
   },
   "source": [
    "## Explore the input data\n",
    "\n",
    "Now let's have a look at the GL file that you have created with ANGSD. It is a \"beagle format\" file called all.beagle.gz - and will be the input file to NGSadmix. The first line in this file is a header line and after that it contains a line for each locus with GLs. By using the unix command wc we can count the number of lines in the file:"
   ]
  },
  {
   "cell_type": "code",
   "execution_count": null,
   "id": "0cafdb54",
   "metadata": {
    "kernel": "Bash"
   },
   "outputs": [],
   "source": [
    "gunzip -c all.beagle.gz | wc -l"
   ]
  },
  {
   "cell_type": "markdown",
   "id": "5eb1d865",
   "metadata": {
    "kernel": "Bash"
   },
   "source": [
    "- Use this to find out how many loci there are GLs for in the data set?"
   ]
  },
  {
   "cell_type": "markdown",
   "id": "2e6663c7",
   "metadata": {
    "kernel": "Bash"
   },
   "source": [
    "Next, to get an idea of what the GL file contains try from the command line to print the first 9 columns of the first 7 lines of the file:"
   ]
  },
  {
   "cell_type": "code",
   "execution_count": null,
   "id": "9a8bb790",
   "metadata": {
    "kernel": "Bash"
   },
   "outputs": [],
   "source": [
    "gunzip -c all.beagle.gz | head -n 7 | cut -f1-9 | column -t"
   ]
  },
  {
   "cell_type": "markdown",
   "id": "552540d1",
   "metadata": {
    "kernel": "Bash"
   },
   "source": [
    "In general, the first three columns of a beagle file contain marker name and the two alleles, allele1 and allele2, present in the locus (in beagle A=0, C=1, G=2, T=3). All following columns contain genotype likelihoods (three columns for each individual: first GL for homozygote for allele1, then GL for heterozygote and then GL for homozygote for allele2). Note that the GL values sum to one per site for each individuals. This is just a normalization of the genotype likelihoods in order to avoid underflow problems in the beagle software it does not mean that they are genotype probabilities.\n",
    "\n",
    "- Based on this, what is the most likely for ind0 in the first locus? And for ind1 in the second locus?"
   ]
  },
  {
   "cell_type": "markdown",
   "id": "e86fb418",
   "metadata": {
    "kernel": "Bash"
   },
   "source": [
    "## Run an analysis of the data with NGSadmix\n",
    "\n",
    "Now you know how the input looks. Next, let's try to perform an NGSadmix analyses of the GLs typing assuming the number of ancestral populations, K, is 3:"
   ]
  },
  {
   "cell_type": "code",
   "execution_count": null,
   "id": "b12cf973",
   "metadata": {
    "kernel": "Bash"
   },
   "outputs": [],
   "source": [
    "$NGSadmix -likes all.beagle.gz -K 3 -minMaf 0.05 -seed 1 -o all"
   ]
  },
  {
   "cell_type": "markdown",
   "id": "91182cf2",
   "metadata": {
    "kernel": "Bash"
   },
   "source": [
    "- While waiting for the analysis to run then make sure you understand the command. If you are in doubt seek help [here](http://www.popgen.dk/software/index.php/NgsAdmix#Parameters). Here you can also see what other options you have when you run an NGSadmix analyses.\n"
   ]
  },
  {
   "cell_type": "markdown",
   "id": "58f4a170",
   "metadata": {
    "kernel": "Bash"
   },
   "source": [
    "## Explore the output\n",
    "\n",
    "The output from the analysis you just ran is three files:\n",
    "\n",
    "- all.log (a \"log file\" that summarizes the analysis run)\n",
    "- all.fopt.gz (an \"fopt file\", which has a line for each locus that contains an estimate of the allele frequency in each of the 3 assumed ancestral populations)\n",
    "- all.qopt (a \"qopt file\", which has a line for each individual that contains anestimate of the individual's ancestry proportion from each of the three assumed ancestral populations).\n",
    "\n",
    "Let's have a look at them one at a time. First, check the log file by typing"
   ]
  },
  {
   "cell_type": "code",
   "execution_count": null,
   "id": "f4c533b7",
   "metadata": {
    "kernel": "Bash"
   },
   "outputs": [],
   "source": [
    "cat all.log"
   ]
  },
  {
   "cell_type": "markdown",
   "id": "090f494d",
   "metadata": {
    "kernel": "Bash"
   },
   "source": [
    "- What is the log likelihood of the estimates achieved by NGSadmix (called \"best like\" in the log file)?\n",
    "\n",
    "Next, check the first line of the fopt file by typing:"
   ]
  },
  {
   "cell_type": "code",
   "execution_count": null,
   "id": "15931212",
   "metadata": {
    "kernel": "Bash"
   },
   "outputs": [],
   "source": [
    "zcat all.fopt.gz | head -n1"
   ]
  },
  {
   "cell_type": "markdown",
   "id": "7d7a5c8f",
   "metadata": {
    "kernel": "Bash"
   },
   "source": [
    "- Based on this: what is the estimated allele frequency at the first locus in the three assumed ancestral populations?\n",
    "\n",
    "Finally, check the first line of the qopt file and thus the estimated admixture proportions for the first individuals by typing:"
   ]
  },
  {
   "cell_type": "code",
   "execution_count": null,
   "id": "9b3a5b1b",
   "metadata": {
    "kernel": "Bash"
   },
   "outputs": [],
   "source": [
    "head -n1 all.qopt"
   ]
  },
  {
   "cell_type": "markdown",
   "id": "477b2e9b",
   "metadata": {
    "kernel": "R"
   },
   "source": [
    "- Based on this: does the individual look admixed?\n",
    "\n",
    "You can see the ID of the first individual by getting the first line of the file you created with all your original bam files in the beginning:"
   ]
  },
  {
   "cell_type": "code",
   "execution_count": null,
   "id": "5b876c2b",
   "metadata": {
    "kernel": "Bash"
   },
   "outputs": [],
   "source": [
    "head -n1 all.files | xargs basename"
   ]
  },
  {
   "cell_type": "markdown",
   "id": "2d7e778e",
   "metadata": {
    "kernel": "Bash"
   },
   "source": [
    "- Based on that ID, which population does the individual come from?\n",
    "- What does this suggest about what column to look for the frequencies for that population in the pop file?\n",
    "- Based on this and the frequency estimates for the first locus that you looked at earlier, what does NGSadmix estimate the allele frequency to be at the first locus in that population?"
   ]
  },
  {
   "cell_type": "markdown",
   "id": "4e003f52",
   "metadata": {
    "kernel": "Bash"
   },
   "source": [
    "## Plot the admixture proportion estimates\n",
    "\n",
    "Finally, try to make a simple plot the estimated admixture proportions for all the individuals by opening the statistical program called R (which you do by typing \"R\" in the terminal and pressing enter) and then copy pasting the following code:"
   ]
  },
  {
   "cell_type": "code",
   "execution_count": null,
   "id": "bd3547e3",
   "metadata": {
    "kernel": "R"
   },
   "outputs": [],
   "source": [
    "# Get ID and pop info for each individual\n",
    "s<-strsplit(basename(scan(\"all.files\",what=\"theFuck\")),\"\\\\.\")\n",
    "pop<-sapply(s,function(x) x[6])\n",
    "\n",
    "# import some funcitons to help in visualization\n",
    "source(\"/home/genis/software/evalAdmix/visFuns.R\")\n",
    "\n",
    "# Read inferred admixture proportions\n",
    "q<-read.table(\"all.qopt\")\n",
    "\n",
    "# order individuals by population, and within populaiton by admixture proporiton\n",
    "ord <- orderInds(pop=pop,q=q, popord=c(\"YRI\", \"ASW\", \"CEU\", \"MXL\", \"CHB\"))\n",
    "            \n",
    "par(mar=c(7,4,1,1))\n",
    "barplot(t(q)[,ord],col=c(3,2,4),las=2,ylab=\"Admixture proportions\", space=0, border=NA)\n",
    "text(sort(tapply(1:length(pop),pop[ord],mean)),-0.05,unique(pop[ord]),xpd=NA)"
   ]
  },
  {
   "cell_type": "markdown",
   "id": "03f9179c",
   "metadata": {
    "kernel": "R"
   },
   "source": [
    "Note that the order of the individuals in the plot are not the same as in the qopt file. Instead, to provide a better overview, the individuals have been ordered according to the population they are sampled from.\n",
    "\n",
    "- Try to explain what the plot shows (what is on the axes, what do the colors mean and so on)\n",
    "- What does the plot suggest about whether the individuals are admixed?\n",
    "\n",
    "NB As you could tell from the number of loci included in the analysis, the above analysis is based on data from very few loci (actually we on purpose only analyzed data from a small part of the genome to make sure the analysis ran fast). In the following we will redo the analyses using a larger number of sites.\n"
   ]
  },
  {
   "cell_type": "markdown",
   "id": "faec1b7a",
   "metadata": {
    "kernel": "R"
   },
   "source": [
    "## More realistic example\n",
    "\n",
    "Now you know how to make input data to NGSadmix, how to run NGSadmix and what the output looks like. We will try now to run a more realistic dataset, using the same samples with a larger number of sites. We have already made the input file with genotype likelihoods for 100 000 sites across the genome, and a file with populaiton info.\n",
    "\n",
    "\n",
    "- A file with genotype likelihoods from the 100 individuals in beagle format: /ricco/data/genis/popgen22/admixexercise/admixinput/1000G5pops100ksites.beagle.gz\n",
    "- A file with labels that indicate which population they are sampled from: /home/genis/admix_evaluation/ngs/data/1000g_5pops/info/1000G5popSameIndsAsGenos.info\n"
   ]
  },
  {
   "cell_type": "markdown",
   "id": "3d9ed90e",
   "metadata": {
    "kernel": "R"
   },
   "source": [
    "## Run an analysis of the data with NGSadmix\n",
    "\n",
    "We start by running an NGSadmix analyses with K=3 (-K 3), using 10 cpu threads (-P 10) and using only SNPs with minor allele frequency above 0.05 (-minMaf 0.05). Furthermore, to make sure we reach the maximum likelihood solution and not a local optima, we should run 20 independent optimizations runs (-seed i for i in 1:20).\n",
    "\n",
    "(Because running this would be too computationally intense to run everyone at the same time in the server, we have already ran it and the following code just prints the commands you would need to run.)  "
   ]
  },
  {
   "cell_type": "code",
   "execution_count": null,
   "id": "75ae5445",
   "metadata": {
    "kernel": "Bash"
   },
   "outputs": [],
   "source": [
    "inputpath=/ricco/data/genis/popgen22/admixexercise/admixinput/1000G5pops.inputgl.beagle.gz\n",
    "outpath=/ricco/data/genis/popgen22/admixexercise/admixoutput\n",
    "K=3\n",
    "\n",
    "for i in `seq 1 20`\n",
    "do\n",
    "    echo \"$NGSadmix -likes $inputpath -K $K -P 10 -minMaf 0.05 -seed $i -o ${outpath}/1000G5popsAdmixK${K}seed${i}\"\n",
    "done\n"
   ]
  },
  {
   "cell_type": "markdown",
   "id": "291ce01c",
   "metadata": {
    "kernel": "Bash"
   },
   "source": [
    "This will produce 20 NGSadmix results with their corresponding output files. In order to assess convergence and find the run with the best log likelihood, we need to check the log likelihoods of the data. This command with extract the log likelihood of each run from the log file, add the seed and sort them from the best to the worse log likelihood."
   ]
  },
  {
   "cell_type": "code",
   "execution_count": null,
   "id": "4e06d239",
   "metadata": {
    "kernel": "Bash"
   },
   "outputs": [],
   "source": [
    "outadmix=/ricco/data/genis/popgen22/admixexercise/admixoutput/1000G5popsAdmix\n",
    "K=3\n",
    "\n",
    "rm allK$K.likes\n",
    "for i in `seq 1 20`\n",
    "do \n",
    "    cat ${outadmix}K${K}seed$i.log | grep \"best like\" | awk -F\"[ =]\" '{print $3}' >> allK$K.likes\n",
    "done\n",
    "\n",
    "cat -n allK$K.likes | sort -rhk2"
   ]
  },
  {
   "cell_type": "markdown",
   "id": "742c5c83",
   "metadata": {
    "kernel": "Bash"
   },
   "source": [
    "- Does it look like most runs reliably converge to the same global optimum?\n",
    "\n",
    "We continue by visualizing the results of the maximum likelihood run (all runs reached the same optimum, so we would see the same results regardless of which one we plotted)."
   ]
  },
  {
   "cell_type": "code",
   "execution_count": null,
   "id": "66dfad55",
   "metadata": {
    "kernel": "R"
   },
   "outputs": [],
   "source": [
    "source(\"/home/genis/software/evalAdmix/visFuns.R\") # import some funcitons to help in visualization\n",
    "pop<-read.table(\"/ricco/data/genis/popgen22/admixexercise/admixinput/1000G5pops.pop.info\",as.is=T)\n",
    "q<-read.table(\"/ricco/data/genis/popgen22/admixexercise/admixoutput/1000G5popsAdmixK3seed3.qopt\")\n",
    "\n",
    "\n",
    "ord<-orderInds(pop = pop[,1], q=q) # sort indiivduals by population and within populaoitn by admixture proportion\n",
    "\n",
    "barplot(t(q)[,ord],col=2:10,space=0,border=NA,xlab=\"Individuals\",ylab=\"Admixture proportions\")\n",
    "text(sort(tapply(1:nrow(pop),pop[ord,1],mean)),-0.05,unique(pop[ord,1]),xpd=T) # add population labels\n",
    "abline(v=cumsum(sapply(unique(pop[ord,1]),function(x){sum(pop[ord,1]==x)})),col=1,lwd=1.2)"
   ]
  },
  {
   "cell_type": "markdown",
   "id": "248bbf20",
   "metadata": {
    "kernel": "R"
   },
   "source": [
    "- Why do you think it looks cleaner than the previous admixture plot we visualized with the same individuals?\n",
    "- How many populations would you say now are admixed? Which population seem to be the admixture source? Does that make sense given what you know of these populations?"
   ]
  },
  {
   "cell_type": "markdown",
   "id": "ec89fc14",
   "metadata": {
    "kernel": "R"
   },
   "source": [
    "## Assessing model fit\n",
    "\n",
    "We will now use evalAdmix to assess if the ancestries inferred in our admixture results are a good approximation to the correct ancestries.\n",
    "\n",
    "Again, due to time and computational limitations, we have already ran the command and just provide here the command used:"
   ]
  },
  {
   "cell_type": "code",
   "execution_count": null,
   "id": "b3240bed",
   "metadata": {
    "kernel": "Bash"
   },
   "outputs": [],
   "source": [
    "EVALADMIX=/home/genis/software/evalAdmix/evalAdmix\n",
    "\n",
    "K=3\n",
    "besti=3\n",
    "inbgl=/ricco/data/genis/popgen22/admixexercise/admixinput/1000G5pops.inputgl.beagle.gz\n",
    "inadmix=/ricco/data/genis/popgen22/admixexercise/admixoutput/1000G5popsAdmixK${K}seed${besti}\n",
    "out=/ricco/data/genis/popgen22/admixexercise/evaladmixoutput/1000G5pops.K${K}seed${besti}.corres\n",
    "\n",
    "echo \"$EVALADMIX -beagle $inbgl -fname ${inadmix}.fopt.gz -qname ${inadmix}.qopt -o $out -P 20\""
   ]
  },
  {
   "cell_type": "markdown",
   "id": "b8f1e842",
   "metadata": {
    "kernel": "Bash"
   },
   "source": [
    "We will now visualize the correlation of residuals estimated by evalAdmix, and use it to assess whether the estimated admixture proportions results are a good fit to the data."
   ]
  },
  {
   "cell_type": "code",
   "execution_count": null,
   "id": "e85cd9cb",
   "metadata": {
    "kernel": "R"
   },
   "outputs": [],
   "source": [
    "source(\"/home/genis/software/evalAdmix/visFuns.R\") # import some funcitons to help in visualization\n",
    "\n",
    "pop<-read.table(\"/ricco/data/genis/popgen22/admixexercise/admixinput/1000G5pops.pop.info\",as.is=T)\n",
    "q<-read.table(\"/ricco/data/genis/popgen22/admixexercise/admixoutput/1000G5popsAdmixK3seed3.qopt\")\n",
    "r <- as.matrix(read.table(\"/ricco/data/genis/popgen22/admixexercise/evaladmixoutput/1000G5pops.K3seed3.corres\"))\n",
    "\n",
    "ord<-orderInds(pop = pop[,1], q=q) # sort indiivduals by population and within populaoitn by admixture proportion\n",
    "\n",
    "plotCorRes(r, pop=pop[,1], ord=ord, max_z = 0.2)"
   ]
  },
  {
   "cell_type": "markdown",
   "id": "3f7317ab",
   "metadata": {
    "kernel": "R"
   },
   "source": [
    "- Is there any population for which the estimated admixture proportions do not seem to have a good fit?\n",
    "- Looking at the admixture proportions plot, can you think of a reason why that population might not be correctly modelled?"
   ]
  },
  {
   "cell_type": "markdown",
   "id": "b320c8b6",
   "metadata": {
    "kernel": "R"
   },
   "source": [
    "## Trying other values of K\n",
    "\n",
    "We will now do again the analyses but using 4 instead of 3 ancestral populations. We start by doing 20 independent runs of NGSadmix, with the same setting except that this time we use K = 4. We then collect the likelihoods form the log files and look at them to assess if the optimization has converged to the global maximum likelihood.\n",
    "\n",
    "(Again, the analyses has already been run and we just provide the code to print the commands)."
   ]
  },
  {
   "cell_type": "code",
   "execution_count": null,
   "id": "f0c7488a",
   "metadata": {
    "kernel": "Bash",
    "scrolled": true
   },
   "outputs": [],
   "source": [
    "inputpath=/ricco/data/genis/popgen22/admixexercise/admixinput/1000G5pops.inputgl.beagle.gz\n",
    "outpath=/ricco/data/genis/popgen22/admixexercise/admixoutput\n",
    "K=4\n",
    "\n",
    "for i in `seq 1 20`\n",
    "do\n",
    "    echo \"$NGSadmix -likes $inputpath -K $K -P 10 -minMaf 0.05 -seed $i -o ${outpath}/1000G5popsAdmixK${K}seed${i}\"\n",
    "done\n",
    "\n",
    "outadmix=/ricco/data/genis/popgen22/admixexercise/admixoutput/1000G5popsAdmix\n",
    "rm allK${K}.likes\n",
    "for i in `seq 1 20`\n",
    "do \n",
    "    cat ${outadmix}K${K}seed$i.log | grep \"best like\" | awk -F\"[ =]\" '{print $3}' >> allK${K}.likes\n",
    "done\n",
    "\n",
    "cat -n allK${K}.likes | sort -rhk2"
   ]
  },
  {
   "cell_type": "markdown",
   "id": "9828d34a",
   "metadata": {
    "kernel": "Bash"
   },
   "source": [
    "- Does it look like it has converged?\n",
    "- Can you guess why there seems to be slightly more variability in the log likelihood of different runs than when using K=3?\n",
    "\n",
    "We will now run evalAdmix to assess the model fit of the best admixture run (again, it has been pre ran and we just print the command):"
   ]
  },
  {
   "cell_type": "code",
   "execution_count": null,
   "id": "b5f8022e",
   "metadata": {
    "kernel": "Bash"
   },
   "outputs": [],
   "source": [
    "EVALADMIX=/home/genis/software/evalAdmix/evalAdmix\n",
    "\n",
    "K=4\n",
    "besti=9\n",
    "inbgl=/ricco/data/genis/popgen22/admixexercise/admixinput/1000G5pops.inputgl.beagle.gz\n",
    "inadmix=/ricco/data/genis/popgen22/admixexercise/admixoutput/1000G5popsAdmixK${K}seed${besti}\n",
    "out=/ricco/data/genis/popgen22/admixexercise/evaladmixoutput/1000G5pops.K${K}seed${besti}.corres\n",
    "\n",
    "echo \"$EVALADMIX -beagle $inbgl -fname ${inadmix}.fopt.gz -qname ${inadmix}.qopt -o $out -P 20\""
   ]
  },
  {
   "cell_type": "markdown",
   "id": "06e964f7",
   "metadata": {
    "kernel": "Bash"
   },
   "source": [
    "We will now visualize the estimated admixture proporitons and the correlation of residuals to assess their fit:"
   ]
  },
  {
   "cell_type": "code",
   "execution_count": null,
   "id": "a3b66eaf",
   "metadata": {
    "kernel": "R"
   },
   "outputs": [],
   "source": [
    "source(\"/home/genis/software/evalAdmix/visFuns.R\") # import some funcitons to help in visualization\n",
    "pop<-read.table(\"/ricco/data/genis/popgen22/admixexercise/admixinput/1000G5pops.pop.info\",as.is=T)\n",
    "q<-read.table(\"/ricco/data/genis/popgen22/admixexercise/admixoutput/1000G5popsAdmixK4seed9.qopt\")\n",
    "\n",
    "\n",
    "ord<-orderInds(pop = pop[,1], q=q) # sort indiivduals by population and within populaoitn by admixture proportion\n",
    "\n",
    "# plot admixture proportions\n",
    "barplot(t(q)[,ord],col=c(5,4,2,3),space=0,border=NA,xlab=\"Individuals\",ylab=\"Admixture proportions\")\n",
    "text(sort(tapply(1:nrow(pop),pop[ord,1],mean)),-0.05,unique(pop[ord,1]),xpd=T) # add population labels\n",
    "abline(v=cumsum(sapply(unique(pop[ord,1]),function(x){sum(pop[ord,1]==x)})),col=1,lwd=1.2)\n",
    "\n",
    "r <- as.matrix(read.table(\"/ricco/data/genis/popgen22/admixexercise/evaladmixoutput/1000G5pops.K4seed9.corres\"))\n",
    "plotCorRes(r, pop=pop[,1], ord=ord, max_z = 0.2)"
   ]
  },
  {
   "cell_type": "markdown",
   "id": "9aaeff50",
   "metadata": {
    "kernel": "R"
   },
   "source": [
    "- To what population corresponds the new cluster that we have added?\n",
    "- Based on the correlation of residuals, would you say adding that cluster has given a significant improvement to the model fit?"
   ]
  }
 ],
 "metadata": {
  "kernelspec": {
   "display_name": "SoS",
   "language": "sos",
   "name": "sos"
  },
  "language_info": {
   "codemirror_mode": "sos",
   "file_extension": ".sos",
   "mimetype": "text/x-sos",
   "name": "sos",
   "nbconvert_exporter": "sos_notebook.converter.SoS_Exporter",
   "pygments_lexer": "sos"
  },
  "sos": {
   "kernels": [
    [
     "Bash",
     "calysto_bash",
     "Bash",
     "#E6EEFF",
     ""
    ],
    [
     "R",
     "ir",
     "R",
     "#DCDCDA",
     "r"
    ]
   ],
   "panel": {
    "displayed": false,
    "height": 0
   },
   "version": "0.22.9"
  }
 },
 "nbformat": 4,
 "nbformat_minor": 5
}
