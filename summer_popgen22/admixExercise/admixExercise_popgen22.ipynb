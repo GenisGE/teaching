{
 "cells": [
  {
   "cell_type": "markdown",
   "id": "b6b873e9",
   "metadata": {
    "kernel": "SoS"
   },
   "source": [
    "# Exercise: Inference of admixture and population structure\n",
    "\n",
    "## A. Use of NGSadmix to infer admixture proportions for numerous individuals\n",
    "\n",
    "In this exercise we will try to use NGSadmix to analyze a NGS dataset.\n",
    "\n",
    "###  Login to the server and set paths\n"
   ]
  },
  {
   "cell_type": "code",
   "execution_count": 1,
   "id": "435b3898",
   "metadata": {
    "kernel": "Bash"
   },
   "outputs": [
    {
     "name": "stdout",
     "output_type": "stream",
     "text": [
      "\n"
     ]
    }
   ],
   "source": [
    "# Set path to ANGSD program\n",
    "ANGSD=/home/ida/teaching/popgen19/admixexercise/programs/angsd\n",
    "\n",
    "# Set path to NGSadmix\n",
    "NGSadmix=/home/ida/teaching/popgen19/admixexercise/programs/NGSadmix\n",
    "\n",
    "# Set path to a bam file list with several bam files\n",
    "BAMFOLDER=/ricco/data/genis/popgen22/admixexercise/smallbams"
   ]
  },
  {
   "cell_type": "markdown",
   "id": "6dad48d2",
   "metadata": {
    "kernel": "Bash"
   },
   "source": [
    "## First small example\n",
    "\n",
    "We will first try to run an NGSadmix analysis of a small dataset consisting of bam files with low depth NGS data from 435 samples of 5 human populations from the 1000 genomes project:\n",
    "\n",
    "\n",
    "| Population code | Population                                     | Sample size |\n",
    "|-----------------|------------------------------------------------|-------------|\n",
    "| ASW             | HapMap African ancestry individuals from SW US | 61          |\n",
    "| CEU             | European individuals                           | 99          |\n",
    "| CHB             | Han Chinese in Beijing                         | 103         |\n",
    "| YRI             | Yoruba individuals from Nigeria                | 108         |\n",
    "| MXL             | Mexican individuals from LA California         | 63          |\n",
    "\n",
    "\n",
    "### Make input data using ANGSD\n",
    "\n",
    "The input to NGSadmix is genotype likelihoods (GLs). Therefore the first step of running an NGSadmix analysis (if all you have are bams files) is to calculate GLs. So let's start bying doing that. First make a file that contains the paths of all the 30 bam files:"
   ]
  },
  {
   "cell_type": "code",
   "execution_count": 2,
   "id": "394135c5",
   "metadata": {
    "kernel": "Bash"
   },
   "outputs": [
    {
     "name": "stdout",
     "output_type": "stream",
     "text": [
      "\n"
     ]
    }
   ],
   "source": [
    "find $BAMFOLDER |  grep bam$ > all.files"
   ]
  },
  {
   "cell_type": "markdown",
   "id": "72af3bdf",
   "metadata": {
    "kernel": "Bash"
   },
   "source": [
    "To see the content of the file you made type:"
   ]
  },
  {
   "cell_type": "code",
   "execution_count": 3,
   "id": "eb840101",
   "metadata": {
    "kernel": "Bash"
   },
   "outputs": [
    {
     "name": "stdout",
     "output_type": "stream",
     "text": [
      "/ricco/data/genis/popgen22/admixexercise/smallbams/small.NA20281.mapped.ILLUMINA.bwa.ASW.low_coverage.20120522.bam\r\n",
      "/ricco/data/genis/popgen22/admixexercise/smallbams/small.NA19200.mapped.ILLUMINA.bwa.YRI.low_coverage.20120522.bam\r\n",
      "/ricco/data/genis/popgen22/admixexercise/smallbams/small.NA18538.mapped.ILLUMINA.bwa.CHB.low_coverage.20120522.bam\r\n",
      "/ricco/data/genis/popgen22/admixexercise/smallbams/small.NA19649.mapped.ILLUMINA.bwa.MXL.low_coverage.20120522.bam\r\n",
      "/ricco/data/genis/popgen22/admixexercise/smallbams/small.NA18874.mapped.ILLUMINA.bwa.YRI.low_coverage.20120522.bam\r\n",
      "/ricco/data/genis/popgen22/admixexercise/smallbams/small.NA19741.mapped.ILLUMINA.bwa.MXL.low_coverage.20130415.bam\r\n",
      "/ricco/data/genis/popgen22/admixexercise/smallbams/small.NA19917.mapped.ILLUMINA.bwa.ASW.low_coverage.20120522.bam\r\n",
      "/ricco/data/genis/popgen22/admixexercise/smallbams/small.NA19901.mapped.ILLUMINA.bwa.ASW.low_coverage.20120522.bam\r\n",
      "/ricco/data/genis/popgen22/admixexercise/smallbams/small.NA19658.mapped.ILLUMINA.bwa.MXL.low_coverage.20120522.bam\r\n",
      "/ricco/data/genis/popgen22/admixexercise/smallbams/small.NA18640.mapped.ILLUMINA.bwa.CHB.low_coverage.20130415.bam\r\n",
      "/ricco/data/genis/popgen22/admixexercise/smallbams/small.NA12827.mapped.ILLUMINA.bwa.CEU.low_coverage.20130415.bam\r\n",
      "/ricco/data/genis/popgen22/admixexercise/smallbams/small.NA12830.mapped.ILLUMINA.bwa.CEU.low_coverage.20130415.bam\r\n",
      "/ricco/data/genis/popgen22/admixexercise/smallbams/small.NA18641.mapped.ILLUMINA.bwa.CHB.low_coverage.20130415.bam\r\n",
      "/ricco/data/genis/popgen22/admixexercise/smallbams/small.NA18570.mapped.ILLUMINA.bwa.CHB.low_coverage.20130415.bam\r\n",
      "/ricco/data/genis/popgen22/admixexercise/smallbams/small.NA12843.mapped.ILLUMINA.bwa.CEU.low_coverage.20130415.bam\r\n",
      "/ricco/data/genis/popgen22/admixexercise/smallbams/small.NA12275.mapped.ILLUMINA.bwa.CEU.low_coverage.20120522.bam\r\n",
      "/ricco/data/genis/popgen22/admixexercise/smallbams/small.NA12878.mapped.ILLUMINA.bwa.CEU.low_coverage.20121211.bam\r\n",
      "/ricco/data/genis/popgen22/admixexercise/smallbams/small.NA19201.mapped.ILLUMINA.bwa.YRI.low_coverage.20130415.bam\r\n",
      "/ricco/data/genis/popgen22/admixexercise/smallbams/small.NA12872.mapped.ILLUMINA.bwa.CEU.low_coverage.20130415.bam\r\n",
      "/ricco/data/genis/popgen22/admixexercise/smallbams/small.NA18624.mapped.ILLUMINA.bwa.CHB.low_coverage.20130415.bam\r\n",
      "/ricco/data/genis/popgen22/admixexercise/smallbams/small.NA19713.mapped.ILLUMINA.bwa.ASW.low_coverage.20120522.bam\r\n",
      "/ricco/data/genis/popgen22/admixexercise/smallbams/small.NA12006.mapped.ILLUMINA.bwa.CEU.low_coverage.20121211.bam\r\n",
      "/ricco/data/genis/popgen22/admixexercise/smallbams/small.NA19794.mapped.ILLUMINA.bwa.MXL.low_coverage.20130415.bam\r\n",
      "/ricco/data/genis/popgen22/admixexercise/smallbams/small.NA19197.mapped.ILLUMINA.bwa.YRI.low_coverage.20120522.bam\r\n",
      "/ricco/data/genis/popgen22/admixexercise/smallbams/small.NA19678.mapped.ILLUMINA.bwa.MXL.low_coverage.20120522.bam\r\n",
      "/ricco/data/genis/popgen22/admixexercise/smallbams/small.NA19143.mapped.ILLUMINA.bwa.YRI.low_coverage.20120522.bam\r\n",
      "/ricco/data/genis/popgen22/admixexercise/smallbams/small.NA18501.mapped.ILLUMINA.bwa.YRI.low_coverage.20130415.bam\r\n",
      "/ricco/data/genis/popgen22/admixexercise/smallbams/small.NA18870.mapped.ILLUMINA.bwa.YRI.low_coverage.20130415.bam\r\n",
      "/ricco/data/genis/popgen22/admixexercise/smallbams/small.NA19679.mapped.ILLUMINA.bwa.MXL.low_coverage.20120522.bam\r\n",
      "/ricco/data/genis/popgen22/admixexercise/smallbams/small.NA19761.mapped.ILLUMINA.bwa.MXL.low_coverage.20120522.bam\r\n",
      "/ricco/data/genis/popgen22/admixexercise/smallbams/small.NA19758.mapped.ILLUMINA.bwa.MXL.low_coverage.20120522.bam\r\n",
      "/ricco/data/genis/popgen22/admixexercise/smallbams/small.NA18635.mapped.ILLUMINA.bwa.CHB.low_coverage.20130415.bam\r\n",
      "/ricco/data/genis/popgen22/admixexercise/smallbams/small.NA20296.mapped.ILLUMINA.bwa.ASW.low_coverage.20120522.bam\r\n",
      "/ricco/data/genis/popgen22/admixexercise/smallbams/small.NA11992.mapped.ILLUMINA.bwa.CEU.low_coverage.20120522.bam\r\n",
      "/ricco/data/genis/popgen22/admixexercise/smallbams/small.NA18489.mapped.ILLUMINA.bwa.YRI.low_coverage.20130415.bam\r\n",
      "/ricco/data/genis/popgen22/admixexercise/smallbams/small.NA12272.mapped.ILLUMINA.bwa.CEU.low_coverage.20120522.bam\r\n",
      "/ricco/data/genis/popgen22/admixexercise/smallbams/small.NA11933.mapped.ILLUMINA.bwa.CEU.low_coverage.20130415.bam\r\n",
      "/ricco/data/genis/popgen22/admixexercise/smallbams/small.NA20355.mapped.ILLUMINA.bwa.ASW.low_coverage.20130415.bam\r\n",
      "/ricco/data/genis/popgen22/admixexercise/smallbams/small.NA18573.mapped.ILLUMINA.bwa.CHB.low_coverage.20130415.bam\r\n",
      "/ricco/data/genis/popgen22/admixexercise/smallbams/small.NA18613.mapped.ILLUMINA.bwa.CHB.low_coverage.20120522.bam\r\n",
      "/ricco/data/genis/popgen22/admixexercise/smallbams/small.NA12489.mapped.ILLUMINA.bwa.CEU.low_coverage.20121211.bam\r\n",
      "/ricco/data/genis/popgen22/admixexercise/smallbams/small.NA19835.mapped.ILLUMINA.bwa.ASW.low_coverage.20120522.bam\r\n",
      "/ricco/data/genis/popgen22/admixexercise/smallbams/small.NA18878.mapped.ILLUMINA.bwa.YRI.low_coverage.20130415.bam\r\n",
      "/ricco/data/genis/popgen22/admixexercise/smallbams/small.NA11918.mapped.ILLUMINA.bwa.CEU.low_coverage.20130415.bam\r\n",
      "/ricco/data/genis/popgen22/admixexercise/smallbams/small.NA18602.mapped.ILLUMINA.bwa.CHB.low_coverage.20120522.bam\r\n",
      "/ricco/data/genis/popgen22/admixexercise/smallbams/small.NA19982.mapped.ILLUMINA.bwa.ASW.low_coverage.20120522.bam\r\n",
      "/ricco/data/genis/popgen22/admixexercise/smallbams/small.NA18565.mapped.ILLUMINA.bwa.CHB.low_coverage.20120522.bam\r\n",
      "/ricco/data/genis/popgen22/admixexercise/smallbams/small.NA12777.mapped.ILLUMINA.bwa.CEU.low_coverage.20130415.bam\r\n",
      "/ricco/data/genis/popgen22/admixexercise/smallbams/small.NA12873.mapped.ILLUMINA.bwa.CEU.low_coverage.20130415.bam\r\n",
      "/ricco/data/genis/popgen22/admixexercise/smallbams/small.NA18879.mapped.ILLUMINA.bwa.YRI.low_coverage.20130415.bam\r\n",
      "/ricco/data/genis/popgen22/admixexercise/smallbams/small.NA19747.mapped.ILLUMINA.bwa.MXL.low_coverage.20120522.bam\r\n",
      "/ricco/data/genis/popgen22/admixexercise/smallbams/small.NA06994.mapped.ILLUMINA.bwa.CEU.low_coverage.20120522.bam\r\n",
      "/ricco/data/genis/popgen22/admixexercise/smallbams/small.NA18747.mapped.ILLUMINA.bwa.CHB.low_coverage.20130415.bam\r\n",
      "/ricco/data/genis/popgen22/admixexercise/smallbams/small.NA19121.mapped.ILLUMINA.bwa.YRI.low_coverage.20130415.bam\r\n",
      "/ricco/data/genis/popgen22/admixexercise/smallbams/small.NA19095.mapped.ILLUMINA.bwa.YRI.low_coverage.20130415.bam\r\n",
      "/ricco/data/genis/popgen22/admixexercise/smallbams/small.NA12046.mapped.ILLUMINA.bwa.CEU.low_coverage.20130415.bam\r\n",
      "/ricco/data/genis/popgen22/admixexercise/smallbams/small.NA19788.mapped.ILLUMINA.bwa.MXL.low_coverage.20120522.bam\r\n",
      "/ricco/data/genis/popgen22/admixexercise/smallbams/small.NA19792.mapped.ILLUMINA.bwa.MXL.low_coverage.20121211.bam\r\n",
      "/ricco/data/genis/popgen22/admixexercise/smallbams/small.NA18915.mapped.ILLUMINA.bwa.YRI.low_coverage.20130502.bam\r\n",
      "/ricco/data/genis/popgen22/admixexercise/smallbams/small.NA19099.mapped.ILLUMINA.bwa.YRI.low_coverage.20130415.bam\r\n",
      "/ricco/data/genis/popgen22/admixexercise/smallbams/small.NA18591.mapped.ILLUMINA.bwa.CHB.low_coverage.20130415.bam\r\n",
      "/ricco/data/genis/popgen22/admixexercise/smallbams/small.NA12546.mapped.ILLUMINA.bwa.CEU.low_coverage.20130415.bam\r\n",
      "/ricco/data/genis/popgen22/admixexercise/smallbams/small.NA12005.mapped.ILLUMINA.bwa.CEU.low_coverage.20120522.bam\r\n",
      "/ricco/data/genis/popgen22/admixexercise/smallbams/small.NA19749.mapped.ILLUMINA.bwa.MXL.low_coverage.20120522.bam\r\n",
      "/ricco/data/genis/popgen22/admixexercise/smallbams/small.NA18745.mapped.ILLUMINA.bwa.CHB.low_coverage.20130415.bam\r\n",
      "/ricco/data/genis/popgen22/admixexercise/smallbams/small.NA18620.mapped.ILLUMINA.bwa.CHB.low_coverage.20130415.bam\r\n",
      "/ricco/data/genis/popgen22/admixexercise/smallbams/small.NA18934.mapped.ILLUMINA.bwa.YRI.low_coverage.20120522.bam\r\n",
      "/ricco/data/genis/popgen22/admixexercise/smallbams/small.NA12287.mapped.ILLUMINA.bwa.CEU.low_coverage.20130415.bam\r\n",
      "/ricco/data/genis/popgen22/admixexercise/smallbams/small.NA18630.mapped.ILLUMINA.bwa.CHB.low_coverage.20120522.bam\r\n",
      "/ricco/data/genis/popgen22/admixexercise/smallbams/small.NA18504.mapped.ILLUMINA.bwa.YRI.low_coverage.20120522.bam\r\n",
      "/ricco/data/genis/popgen22/admixexercise/smallbams/small.NA18861.mapped.ILLUMINA.bwa.YRI.low_coverage.20130415.bam\r\n",
      "/ricco/data/genis/popgen22/admixexercise/smallbams/small.NA18643.mapped.ILLUMINA.bwa.CHB.low_coverage.20130415.bam\r\n",
      "/ricco/data/genis/popgen22/admixexercise/smallbams/small.NA06989.mapped.ILLUMINA.bwa.CEU.low_coverage.20120522.bam\r\n",
      "/ricco/data/genis/popgen22/admixexercise/smallbams/small.NA19209.mapped.ILLUMINA.bwa.YRI.low_coverage.20130415.bam\r\n",
      "/ricco/data/genis/popgen22/admixexercise/smallbams/small.NA19130.mapped.ILLUMINA.bwa.YRI.low_coverage.20120522.bam\r\n",
      "/ricco/data/genis/popgen22/admixexercise/smallbams/small.NA10847.mapped.ILLUMINA.bwa.CEU.low_coverage.20130502.bam\r\n",
      "/ricco/data/genis/popgen22/admixexercise/smallbams/small.NA19206.mapped.ILLUMINA.bwa.YRI.low_coverage.20130415.bam\r\n",
      "/ricco/data/genis/popgen22/admixexercise/smallbams/small.NA19762.mapped.ILLUMINA.bwa.MXL.low_coverage.20120522.bam\r\n",
      "/ricco/data/genis/popgen22/admixexercise/smallbams/small.NA18523.mapped.ILLUMINA.bwa.YRI.low_coverage.20130415.bam\r\n",
      "/ricco/data/genis/popgen22/admixexercise/smallbams/small.NA12413.mapped.ILLUMINA.bwa.CEU.low_coverage.20130415.bam\r\n",
      "/ricco/data/genis/popgen22/admixexercise/smallbams/small.NA12890.mapped.ILLUMINA.bwa.CEU.low_coverage.20130415.bam\r\n",
      "/ricco/data/genis/popgen22/admixexercise/smallbams/small.NA19118.mapped.ILLUMINA.bwa.YRI.low_coverage.20130415.bam\r\n",
      "/ricco/data/genis/popgen22/admixexercise/smallbams/small.NA18615.mapped.ILLUMINA.bwa.CHB.low_coverage.20120522.bam\r\n",
      "/ricco/data/genis/popgen22/admixexercise/smallbams/small.NA20339.mapped.ILLUMINA.bwa.ASW.low_coverage.20130415.bam\r\n",
      "/ricco/data/genis/popgen22/admixexercise/smallbams/small.NA19900.mapped.ILLUMINA.bwa.ASW.low_coverage.20120522.bam\r\n",
      "/ricco/data/genis/popgen22/admixexercise/smallbams/small.NA12341.mapped.ILLUMINA.bwa.CEU.low_coverage.20120522.bam\r\n",
      "/ricco/data/genis/popgen22/admixexercise/smallbams/small.NA18577.mapped.ILLUMINA.bwa.CHB.low_coverage.20130415.bam\r\n",
      "/ricco/data/genis/popgen22/admixexercise/smallbams/small.NA18561.mapped.ILLUMINA.bwa.CHB.low_coverage.20130415.bam\r\n",
      "/ricco/data/genis/popgen22/admixexercise/smallbams/small.NA18595.mapped.ILLUMINA.bwa.CHB.low_coverage.20130415.bam\r\n",
      "/ricco/data/genis/popgen22/admixexercise/smallbams/small.NA19726.mapped.ILLUMINA.bwa.MXL.low_coverage.20120522.bam\r\n",
      "/ricco/data/genis/popgen22/admixexercise/smallbams/small.NA18619.mapped.ILLUMINA.bwa.CHB.low_coverage.20120522.bam\r\n",
      "/ricco/data/genis/popgen22/admixexercise/smallbams/small.NA19789.mapped.ILLUMINA.bwa.MXL.low_coverage.20120522.bam\r\n",
      "/ricco/data/genis/popgen22/admixexercise/smallbams/small.NA12813.mapped.ILLUMINA.bwa.CEU.low_coverage.20120522.bam\r\n",
      "/ricco/data/genis/popgen22/admixexercise/smallbams/small.NA12156.mapped.ILLUMINA.bwa.CEU.low_coverage.20120522.bam\r\n",
      "/ricco/data/genis/popgen22/admixexercise/smallbams/small.NA18567.mapped.ILLUMINA.bwa.CHB.low_coverage.20120522.bam\r\n",
      "/ricco/data/genis/popgen22/admixexercise/smallbams/small.NA19920.mapped.ILLUMINA.bwa.ASW.low_coverage.20120522.bam\r\n",
      "/ricco/data/genis/popgen22/admixexercise/smallbams/small.NA12763.mapped.ILLUMINA.bwa.CEU.low_coverage.20130502.bam\r\n",
      "/ricco/data/genis/popgen22/admixexercise/smallbams/small.NA18525.mapped.ILLUMINA.bwa.CHB.low_coverage.20130415.bam\r\n",
      "/ricco/data/genis/popgen22/admixexercise/smallbams/small.NA11892.mapped.ILLUMINA.bwa.CEU.low_coverage.20130415.bam\r\n",
      "/ricco/data/genis/popgen22/admixexercise/smallbams/small.NA19725.mapped.ILLUMINA.bwa.MXL.low_coverage.20120522.bam\r\n",
      "/ricco/data/genis/popgen22/admixexercise/smallbams/small.NA07051.mapped.ILLUMINA.bwa.CEU.low_coverage.20120522.bam\r\n",
      "/ricco/data/genis/popgen22/admixexercise/smallbams/small.NA11932.mapped.ILLUMINA.bwa.CEU.low_coverage.20130415.bam\r\n",
      "/ricco/data/genis/popgen22/admixexercise/smallbams/small.NA19175.mapped.ILLUMINA.bwa.YRI.low_coverage.20130415.bam\r\n",
      "/ricco/data/genis/popgen22/admixexercise/smallbams/small.NA19785.mapped.ILLUMINA.bwa.MXL.low_coverage.20120522.bam\r\n",
      "/ricco/data/genis/popgen22/admixexercise/smallbams/small.NA19222.mapped.ILLUMINA.bwa.YRI.low_coverage.20130415.bam\r\n",
      "/ricco/data/genis/popgen22/admixexercise/smallbams/small.NA12775.mapped.ILLUMINA.bwa.CEU.low_coverage.20130415.bam\r\n",
      "/ricco/data/genis/popgen22/admixexercise/smallbams/small.NA18909.mapped.ILLUMINA.bwa.YRI.low_coverage.20130415.bam\r\n",
      "/ricco/data/genis/popgen22/admixexercise/smallbams/small.NA19735.mapped.ILLUMINA.bwa.MXL.low_coverage.20130415.bam\r\n",
      "/ricco/data/genis/popgen22/admixexercise/smallbams/small.NA12414.mapped.ILLUMINA.bwa.CEU.low_coverage.20120522.bam\r\n",
      "/ricco/data/genis/popgen22/admixexercise/smallbams/small.NA18528.mapped.ILLUMINA.bwa.CHB.low_coverage.20130415.bam\r\n",
      "/ricco/data/genis/popgen22/admixexercise/smallbams/small.NA19108.mapped.ILLUMINA.bwa.YRI.low_coverage.20130415.bam\r\n",
      "/ricco/data/genis/popgen22/admixexercise/smallbams/small.NA19223.mapped.ILLUMINA.bwa.YRI.low_coverage.20120522.bam\r\n",
      "/ricco/data/genis/popgen22/admixexercise/smallbams/small.NA18632.mapped.ILLUMINA.bwa.CHB.low_coverage.20130415.bam\r\n",
      "/ricco/data/genis/popgen22/admixexercise/smallbams/small.NA20289.mapped.ILLUMINA.bwa.ASW.low_coverage.20120522.bam\r\n",
      "/ricco/data/genis/popgen22/admixexercise/smallbams/small.NA19776.mapped.ILLUMINA.bwa.MXL.low_coverage.20120522.bam\r\n",
      "/ricco/data/genis/popgen22/admixexercise/smallbams/small.NA19908.mapped.ILLUMINA.bwa.ASW.low_coverage.20120522.bam\r\n",
      "/ricco/data/genis/popgen22/admixexercise/smallbams/small.NA19189.mapped.ILLUMINA.bwa.YRI.low_coverage.20120522.bam\r\n",
      "/ricco/data/genis/popgen22/admixexercise/smallbams/small.NA11829.mapped.ILLUMINA.bwa.CEU.low_coverage.20130415.bam\r\n",
      "/ricco/data/genis/popgen22/admixexercise/smallbams/small.NA20332.mapped.ILLUMINA.bwa.ASW.low_coverage.20120522.bam\r\n",
      "/ricco/data/genis/popgen22/admixexercise/smallbams/small.NA12340.mapped.ILLUMINA.bwa.CEU.low_coverage.20120522.bam\r\n",
      "/ricco/data/genis/popgen22/admixexercise/smallbams/small.NA19773.mapped.ILLUMINA.bwa.MXL.low_coverage.20120522.bam\r\n",
      "/ricco/data/genis/popgen22/admixexercise/smallbams/small.NA19732.mapped.ILLUMINA.bwa.MXL.low_coverage.20120522.bam\r\n",
      "/ricco/data/genis/popgen22/admixexercise/smallbams/small.NA12400.mapped.ILLUMINA.bwa.CEU.low_coverage.20120522.bam\r\n",
      "/ricco/data/genis/popgen22/admixexercise/smallbams/small.NA18610.mapped.ILLUMINA.bwa.CHB.low_coverage.20130415.bam\r\n",
      "/ricco/data/genis/popgen22/admixexercise/smallbams/small.NA20340.mapped.ILLUMINA.bwa.ASW.low_coverage.20120522.bam\r\n",
      "/ricco/data/genis/popgen22/admixexercise/smallbams/small.NA18519.mapped.ILLUMINA.bwa.YRI.low_coverage.20130415.bam\r\n",
      "/ricco/data/genis/popgen22/admixexercise/smallbams/small.NA12761.mapped.ILLUMINA.bwa.CEU.low_coverage.20130422.bam\r\n",
      "/ricco/data/genis/popgen22/admixexercise/smallbams/small.NA19684.mapped.ILLUMINA.bwa.MXL.low_coverage.20120522.bam\r\n",
      "/ricco/data/genis/popgen22/admixexercise/smallbams/small.NA19113.mapped.ILLUMINA.bwa.YRI.low_coverage.20130415.bam\r\n",
      "/ricco/data/genis/popgen22/admixexercise/smallbams/small.NA18537.mapped.ILLUMINA.bwa.CHB.low_coverage.20120522.bam\r\n",
      "/ricco/data/genis/popgen22/admixexercise/smallbams/small.NA19722.mapped.ILLUMINA.bwa.MXL.low_coverage.20120522.bam\r\n",
      "/ricco/data/genis/popgen22/admixexercise/smallbams/small.NA19239.mapped.ILLUMINA.bwa.YRI.low_coverage.20130415.bam\r\n",
      "/ricco/data/genis/popgen22/admixexercise/smallbams/small.NA19138.mapped.ILLUMINA.bwa.YRI.low_coverage.20130415.bam\r\n",
      "/ricco/data/genis/popgen22/admixexercise/smallbams/small.NA12003.mapped.ILLUMINA.bwa.CEU.low_coverage.20120522.bam\r\n",
      "/ricco/data/genis/popgen22/admixexercise/smallbams/small.NA19746.mapped.ILLUMINA.bwa.MXL.low_coverage.20120522.bam\r\n",
      "/ricco/data/genis/popgen22/admixexercise/smallbams/small.NA19185.mapped.ILLUMINA.bwa.YRI.low_coverage.20130415.bam\r\n",
      "/ricco/data/genis/popgen22/admixexercise/smallbams/small.NA20294.mapped.ILLUMINA.bwa.ASW.low_coverage.20120522.bam\r\n",
      "/ricco/data/genis/popgen22/admixexercise/smallbams/small.NA07347.mapped.ILLUMINA.bwa.CEU.low_coverage.20130415.bam\r\n",
      "/ricco/data/genis/popgen22/admixexercise/smallbams/small.NA19152.mapped.ILLUMINA.bwa.YRI.low_coverage.20120522.bam\r\n",
      "/ricco/data/genis/popgen22/admixexercise/smallbams/small.NA19786.mapped.ILLUMINA.bwa.MXL.low_coverage.20120522.bam\r\n",
      "/ricco/data/genis/popgen22/admixexercise/smallbams/small.NA20276.mapped.ILLUMINA.bwa.ASW.low_coverage.20120522.bam\r\n",
      "/ricco/data/genis/popgen22/admixexercise/smallbams/small.NA12399.mapped.ILLUMINA.bwa.CEU.low_coverage.20120522.bam\r\n",
      "/ricco/data/genis/popgen22/admixexercise/smallbams/small.NA11920.mapped.ILLUMINA.bwa.CEU.low_coverage.20130415.bam\r\n",
      "/ricco/data/genis/popgen22/admixexercise/smallbams/small.NA19703.mapped.ILLUMINA.bwa.ASW.low_coverage.20120522.bam\r\n",
      "/ricco/data/genis/popgen22/admixexercise/smallbams/small.NA19712.mapped.ILLUMINA.bwa.ASW.low_coverage.20120522.bam\r\n",
      "/ricco/data/genis/popgen22/admixexercise/smallbams/small.NA12058.mapped.ILLUMINA.bwa.CEU.low_coverage.20120522.bam\r\n",
      "/ricco/data/genis/popgen22/admixexercise/smallbams/small.NA18622.mapped.ILLUMINA.bwa.CHB.low_coverage.20130415.bam\r\n",
      "/ricco/data/genis/popgen22/admixexercise/smallbams/small.NA20362.mapped.ILLUMINA.bwa.ASW.low_coverage.20130415.bam\r\n",
      "/ricco/data/genis/popgen22/admixexercise/smallbams/small.NA19248.mapped.ILLUMINA.bwa.YRI.low_coverage.20120522.bam\r\n",
      "/ricco/data/genis/popgen22/admixexercise/smallbams/small.NA18614.mapped.ILLUMINA.bwa.CHB.low_coverage.20130415.bam\r\n",
      "/ricco/data/genis/popgen22/admixexercise/smallbams/small.NA19198.mapped.ILLUMINA.bwa.YRI.low_coverage.20120522.bam\r\n",
      "/ricco/data/genis/popgen22/admixexercise/smallbams/small.NA18520.mapped.ILLUMINA.bwa.YRI.low_coverage.20120522.bam\r\n",
      "/ricco/data/genis/popgen22/admixexercise/smallbams/small.NA18579.mapped.ILLUMINA.bwa.CHB.low_coverage.20130415.bam\r\n",
      "/ricco/data/genis/popgen22/admixexercise/smallbams/small.NA18871.mapped.ILLUMINA.bwa.YRI.low_coverage.20120522.bam\r\n",
      "/ricco/data/genis/popgen22/admixexercise/smallbams/small.NA18924.mapped.ILLUMINA.bwa.YRI.low_coverage.20120522.bam\r\n",
      "/ricco/data/genis/popgen22/admixexercise/smallbams/small.NA12828.mapped.ILLUMINA.bwa.CEU.low_coverage.20130415.bam\r\n",
      "/ricco/data/genis/popgen22/admixexercise/smallbams/small.NA18873.mapped.ILLUMINA.bwa.YRI.low_coverage.20120522.bam\r\n",
      "/ricco/data/genis/popgen22/admixexercise/smallbams/small.NA19144.mapped.ILLUMINA.bwa.YRI.low_coverage.20130415.bam\r\n",
      "/ricco/data/genis/popgen22/admixexercise/smallbams/small.NA19780.mapped.ILLUMINA.bwa.MXL.low_coverage.20120522.bam\r\n",
      "/ricco/data/genis/popgen22/admixexercise/smallbams/small.NA18611.mapped.ILLUMINA.bwa.CHB.low_coverage.20120522.bam\r\n",
      "/ricco/data/genis/popgen22/admixexercise/smallbams/small.NA18564.mapped.ILLUMINA.bwa.CHB.low_coverage.20130415.bam\r\n",
      "/ricco/data/genis/popgen22/admixexercise/smallbams/small.NA18566.mapped.ILLUMINA.bwa.CHB.low_coverage.20130415.bam\r\n",
      "/ricco/data/genis/popgen22/admixexercise/smallbams/small.NA19652.mapped.ILLUMINA.bwa.MXL.low_coverage.20120522.bam\r\n",
      "/ricco/data/genis/popgen22/admixexercise/smallbams/small.NA19210.mapped.ILLUMINA.bwa.YRI.low_coverage.20130415.bam\r\n",
      "/ricco/data/genis/popgen22/admixexercise/smallbams/small.NA18748.mapped.ILLUMINA.bwa.CHB.low_coverage.20130415.bam\r\n",
      "/ricco/data/genis/popgen22/admixexercise/smallbams/small.NA12045.mapped.ILLUMINA.bwa.CEU.low_coverage.20130415.bam\r\n",
      "/ricco/data/genis/popgen22/admixexercise/smallbams/small.NA12286.mapped.ILLUMINA.bwa.CEU.low_coverage.20130415.bam\r\n",
      "/ricco/data/genis/popgen22/admixexercise/smallbams/small.NA18639.mapped.ILLUMINA.bwa.CHB.low_coverage.20130415.bam\r\n",
      "/ricco/data/genis/popgen22/admixexercise/smallbams/small.NA19625.mapped.ILLUMINA.bwa.ASW.low_coverage.20120522.bam\r\n",
      "/ricco/data/genis/popgen22/admixexercise/smallbams/small.NA12043.mapped.ILLUMINA.bwa.CEU.low_coverage.20130415.bam\r\n",
      "/ricco/data/genis/popgen22/admixexercise/smallbams/small.NA18633.mapped.ILLUMINA.bwa.CHB.low_coverage.20130415.bam\r\n",
      "/ricco/data/genis/popgen22/admixexercise/smallbams/small.NA19913.mapped.ILLUMINA.bwa.ASW.low_coverage.20130415.bam\r\n",
      "/ricco/data/genis/popgen22/admixexercise/smallbams/small.NA18740.mapped.ILLUMINA.bwa.CHB.low_coverage.20130415.bam\r\n",
      "/ricco/data/genis/popgen22/admixexercise/smallbams/small.NA20346.mapped.ILLUMINA.bwa.ASW.low_coverage.20120522.bam\r\n",
      "/ricco/data/genis/popgen22/admixexercise/smallbams/small.NA18534.mapped.ILLUMINA.bwa.CHB.low_coverage.20120522.bam\r\n",
      "/ricco/data/genis/popgen22/admixexercise/smallbams/small.NA19107.mapped.ILLUMINA.bwa.YRI.low_coverage.20130415.bam\r\n",
      "/ricco/data/genis/popgen22/admixexercise/smallbams/small.NA18508.mapped.ILLUMINA.bwa.YRI.low_coverage.20130415.bam\r\n",
      "/ricco/data/genis/popgen22/admixexercise/smallbams/small.NA07048.mapped.ILLUMINA.bwa.CEU.low_coverage.20120522.bam\r\n",
      "/ricco/data/genis/popgen22/admixexercise/smallbams/small.NA19676.mapped.ILLUMINA.bwa.MXL.low_coverage.20120522.bam\r\n",
      "/ricco/data/genis/popgen22/admixexercise/smallbams/small.NA12762.mapped.ILLUMINA.bwa.CEU.low_coverage.20120522.bam\r\n",
      "/ricco/data/genis/popgen22/admixexercise/smallbams/small.NA18912.mapped.ILLUMINA.bwa.YRI.low_coverage.20120522.bam\r\n",
      "/ricco/data/genis/popgen22/admixexercise/smallbams/small.NA20314.mapped.ILLUMINA.bwa.ASW.low_coverage.20120522.bam\r\n",
      "/ricco/data/genis/popgen22/admixexercise/smallbams/small.NA18853.mapped.ILLUMINA.bwa.YRI.low_coverage.20120522.bam\r\n",
      "/ricco/data/genis/popgen22/admixexercise/smallbams/small.NA12750.mapped.ILLUMINA.bwa.CEU.low_coverage.20130422.bam\r\n",
      "/ricco/data/genis/popgen22/admixexercise/smallbams/small.NA18631.mapped.ILLUMINA.bwa.CHB.low_coverage.20120522.bam\r\n",
      "/ricco/data/genis/popgen22/admixexercise/smallbams/small.NA19922.mapped.ILLUMINA.bwa.ASW.low_coverage.20130415.bam\r\n",
      "/ricco/data/genis/popgen22/admixexercise/smallbams/small.NA18543.mapped.ILLUMINA.bwa.CHB.low_coverage.20130415.bam\r\n",
      "/ricco/data/genis/popgen22/admixexercise/smallbams/small.NA19214.mapped.ILLUMINA.bwa.YRI.low_coverage.20130415.bam\r\n",
      "/ricco/data/genis/popgen22/admixexercise/smallbams/small.NA18644.mapped.ILLUMINA.bwa.CHB.low_coverage.20130415.bam\r\n",
      "/ricco/data/genis/popgen22/admixexercise/smallbams/small.NA06986.mapped.ILLUMINA.bwa.CEU.low_coverage.20130415.bam\r\n",
      "/ricco/data/genis/popgen22/admixexercise/smallbams/small.NA18856.mapped.ILLUMINA.bwa.YRI.low_coverage.20120522.bam\r\n",
      "/ricco/data/genis/popgen22/admixexercise/smallbams/small.NA18553.mapped.ILLUMINA.bwa.CHB.low_coverage.20120522.bam\r\n",
      "/ricco/data/genis/popgen22/admixexercise/smallbams/small.NA19247.mapped.ILLUMINA.bwa.YRI.low_coverage.20120522.bam\r\n",
      "/ricco/data/genis/popgen22/admixexercise/smallbams/small.NA12814.mapped.ILLUMINA.bwa.CEU.low_coverage.20130415.bam\r\n",
      "/ricco/data/genis/popgen22/admixexercise/smallbams/small.NA18608.mapped.ILLUMINA.bwa.CHB.low_coverage.20130415.bam\r\n",
      "/ricco/data/genis/popgen22/admixexercise/smallbams/small.NA18582.mapped.ILLUMINA.bwa.CHB.low_coverage.20130415.bam\r\n",
      "/ricco/data/genis/popgen22/admixexercise/smallbams/small.NA18749.mapped.ILLUMINA.bwa.CHB.low_coverage.20130415.bam\r\n",
      "/ricco/data/genis/popgen22/admixexercise/smallbams/small.NA19904.mapped.ILLUMINA.bwa.ASW.low_coverage.20120522.bam\r\n",
      "/ricco/data/genis/popgen22/admixexercise/smallbams/small.NA18545.mapped.ILLUMINA.bwa.CHB.low_coverage.20130415.bam\r\n",
      "/ricco/data/genis/popgen22/admixexercise/smallbams/small.NA07037.mapped.ILLUMINA.bwa.CEU.low_coverage.20130502.bam\r\n",
      "/ricco/data/genis/popgen22/admixexercise/smallbams/small.NA18636.mapped.ILLUMINA.bwa.CHB.low_coverage.20130415.bam\r\n",
      "/ricco/data/genis/popgen22/admixexercise/smallbams/small.NA20291.mapped.ILLUMINA.bwa.ASW.low_coverage.20120522.bam\r\n",
      "/ricco/data/genis/popgen22/admixexercise/smallbams/small.NA20351.mapped.ILLUMINA.bwa.ASW.low_coverage.20130415.bam\r\n",
      "/ricco/data/genis/popgen22/admixexercise/smallbams/small.NA18908.mapped.ILLUMINA.bwa.YRI.low_coverage.20120522.bam\r\n",
      "/ricco/data/genis/popgen22/admixexercise/smallbams/small.NA20348.mapped.ILLUMINA.bwa.ASW.low_coverage.20120522.bam\r\n",
      "/ricco/data/genis/popgen22/admixexercise/smallbams/small.NA12874.mapped.ILLUMINA.bwa.CEU.low_coverage.20130415.bam\r\n",
      "/ricco/data/genis/popgen22/admixexercise/smallbams/small.NA18865.mapped.ILLUMINA.bwa.YRI.low_coverage.20130415.bam\r\n",
      "/ricco/data/genis/popgen22/admixexercise/smallbams/small.NA18592.mapped.ILLUMINA.bwa.CHB.low_coverage.20130415.bam\r\n",
      "/ricco/data/genis/popgen22/admixexercise/smallbams/small.NA19759.mapped.ILLUMINA.bwa.MXL.low_coverage.20120522.bam\r\n",
      "/ricco/data/genis/popgen22/admixexercise/smallbams/small.NA12383.mapped.ILLUMINA.bwa.CEU.low_coverage.20130415.bam\r\n",
      "/ricco/data/genis/popgen22/admixexercise/smallbams/small.NA11919.mapped.ILLUMINA.bwa.CEU.low_coverage.20130415.bam\r\n",
      "/ricco/data/genis/popgen22/admixexercise/smallbams/small.NA07056.mapped.ILLUMINA.bwa.CEU.low_coverage.20130415.bam\r\n",
      "/ricco/data/genis/popgen22/admixexercise/smallbams/small.NA19914.mapped.ILLUMINA.bwa.ASW.low_coverage.20120522.bam\r\n",
      "/ricco/data/genis/popgen22/admixexercise/smallbams/small.NA12004.mapped.ILLUMINA.bwa.CEU.low_coverage.20121211.bam\r\n",
      "/ricco/data/genis/popgen22/admixexercise/smallbams/small.NA11831.mapped.ILLUMINA.bwa.CEU.low_coverage.20120522.bam\r\n",
      "/ricco/data/genis/popgen22/admixexercise/smallbams/small.NA11832.mapped.ILLUMINA.bwa.CEU.low_coverage.20120522.bam\r\n",
      "/ricco/data/genis/popgen22/admixexercise/smallbams/small.NA20357.mapped.ILLUMINA.bwa.ASW.low_coverage.20130415.bam\r\n",
      "/ricco/data/genis/popgen22/admixexercise/smallbams/small.NA19717.mapped.ILLUMINA.bwa.MXL.low_coverage.20120522.bam\r\n",
      "/ricco/data/genis/popgen22/admixexercise/smallbams/small.NA19782.mapped.ILLUMINA.bwa.MXL.low_coverage.20120522.bam\r\n",
      "/ricco/data/genis/popgen22/admixexercise/smallbams/small.NA18549.mapped.ILLUMINA.bwa.CHB.low_coverage.20130415.bam\r\n",
      "/ricco/data/genis/popgen22/admixexercise/smallbams/small.NA18606.mapped.ILLUMINA.bwa.CHB.low_coverage.20130415.bam\r\n",
      "/ricco/data/genis/popgen22/admixexercise/smallbams/small.NA18552.mapped.ILLUMINA.bwa.CHB.low_coverage.20130415.bam\r\n",
      "/ricco/data/genis/popgen22/admixexercise/smallbams/small.NA12342.mapped.ILLUMINA.bwa.CEU.low_coverage.20120522.bam\r\n",
      "/ricco/data/genis/popgen22/admixexercise/smallbams/small.NA19670.mapped.ILLUMINA.bwa.MXL.low_coverage.20120522.bam\r\n",
      "/ricco/data/genis/popgen22/admixexercise/smallbams/small.NA11881.mapped.ILLUMINA.bwa.CEU.low_coverage.20120522.bam\r\n",
      "/ricco/data/genis/popgen22/admixexercise/smallbams/small.NA20334.mapped.ILLUMINA.bwa.ASW.low_coverage.20120522.bam\r\n",
      "/ricco/data/genis/popgen22/admixexercise/smallbams/small.NA18616.mapped.ILLUMINA.bwa.CHB.low_coverage.20120522.bam\r\n",
      "/ricco/data/genis/popgen22/admixexercise/smallbams/small.NA19755.mapped.ILLUMINA.bwa.MXL.low_coverage.20120522.bam\r\n",
      "/ricco/data/genis/popgen22/admixexercise/smallbams/small.NA20126.mapped.ILLUMINA.bwa.ASW.low_coverage.20120522.bam\r\n",
      "/ricco/data/genis/popgen22/admixexercise/smallbams/small.NA18547.mapped.ILLUMINA.bwa.CHB.low_coverage.20130415.bam\r\n",
      "/ricco/data/genis/popgen22/admixexercise/smallbams/small.NA19235.mapped.ILLUMINA.bwa.YRI.low_coverage.20120522.bam\r\n",
      "/ricco/data/genis/popgen22/admixexercise/smallbams/small.NA12815.mapped.ILLUMINA.bwa.CEU.low_coverage.20130415.bam\r\n",
      "/ricco/data/genis/popgen22/admixexercise/smallbams/small.NA19663.mapped.ILLUMINA.bwa.MXL.low_coverage.20120522.bam\r\n",
      "/ricco/data/genis/popgen22/admixexercise/smallbams/small.NA18599.mapped.ILLUMINA.bwa.CHB.low_coverage.20130415.bam\r\n",
      "/ricco/data/genis/popgen22/admixexercise/smallbams/small.NA19819.mapped.ILLUMINA.bwa.ASW.low_coverage.20120522.bam\r\n",
      "/ricco/data/genis/popgen22/admixexercise/smallbams/small.NA19734.mapped.ILLUMINA.bwa.MXL.low_coverage.20130415.bam\r\n",
      "/ricco/data/genis/popgen22/admixexercise/smallbams/small.NA19119.mapped.ILLUMINA.bwa.YRI.low_coverage.20120522.bam\r\n",
      "/ricco/data/genis/popgen22/admixexercise/smallbams/small.NA19783.mapped.ILLUMINA.bwa.MXL.low_coverage.20120522.bam\r\n",
      "/ricco/data/genis/popgen22/admixexercise/smallbams/small.NA12760.mapped.ILLUMINA.bwa.CEU.low_coverage.20120522.bam\r\n",
      "/ricco/data/genis/popgen22/admixexercise/smallbams/small.NA18507.mapped.ILLUMINA.bwa.YRI.low_coverage.20120522.bam\r\n",
      "/ricco/data/genis/popgen22/admixexercise/smallbams/small.NA18933.mapped.ILLUMINA.bwa.YRI.low_coverage.20120522.bam\r\n",
      "/ricco/data/genis/popgen22/admixexercise/smallbams/small.NA20282.mapped.ILLUMINA.bwa.ASW.low_coverage.20120522.bam\r\n",
      "/ricco/data/genis/popgen22/admixexercise/smallbams/small.NA12155.mapped.ILLUMINA.bwa.CEU.low_coverage.20120522.bam\r\n",
      "/ricco/data/genis/popgen22/admixexercise/smallbams/small.NA19257.mapped.ILLUMINA.bwa.YRI.low_coverage.20130415.bam\r\n",
      "/ricco/data/genis/popgen22/admixexercise/smallbams/small.NA19752.mapped.ILLUMINA.bwa.MXL.low_coverage.20130415.bam\r\n",
      "/ricco/data/genis/popgen22/admixexercise/smallbams/small.NA18605.mapped.ILLUMINA.bwa.CHB.low_coverage.20130415.bam\r\n",
      "/ricco/data/genis/popgen22/admixexercise/smallbams/small.NA18638.mapped.ILLUMINA.bwa.CHB.low_coverage.20130415.bam\r\n",
      "/ricco/data/genis/popgen22/admixexercise/smallbams/small.NA18555.mapped.ILLUMINA.bwa.CHB.low_coverage.20130415.bam\r\n",
      "/ricco/data/genis/popgen22/admixexercise/smallbams/small.NA19114.mapped.ILLUMINA.bwa.YRI.low_coverage.20130415.bam\r\n",
      "/ricco/data/genis/popgen22/admixexercise/smallbams/small.NA19720.mapped.ILLUMINA.bwa.MXL.low_coverage.20120522.bam\r\n",
      "/ricco/data/genis/popgen22/admixexercise/smallbams/small.NA18557.mapped.ILLUMINA.bwa.CHB.low_coverage.20130415.bam\r\n",
      "/ricco/data/genis/popgen22/admixexercise/smallbams/small.NA12717.mapped.ILLUMINA.bwa.CEU.low_coverage.20130422.bam\r\n",
      "/ricco/data/genis/popgen22/admixexercise/smallbams/small.NA19681.mapped.ILLUMINA.bwa.MXL.low_coverage.20120522.bam\r\n",
      "/ricco/data/genis/popgen22/admixexercise/smallbams/small.NA18621.mapped.ILLUMINA.bwa.CHB.low_coverage.20130415.bam\r\n",
      "/ricco/data/genis/popgen22/admixexercise/smallbams/small.NA18533.mapped.ILLUMINA.bwa.CHB.low_coverage.20120522.bam\r\n",
      "/ricco/data/genis/popgen22/admixexercise/smallbams/small.NA18530.mapped.ILLUMINA.bwa.CHB.low_coverage.20120522.bam\r\n",
      "/ricco/data/genis/popgen22/admixexercise/smallbams/small.NA19716.mapped.ILLUMINA.bwa.MXL.low_coverage.20120522.bam\r\n",
      "/ricco/data/genis/popgen22/admixexercise/smallbams/small.NA19756.mapped.ILLUMINA.bwa.MXL.low_coverage.20120522.bam\r\n",
      "/ricco/data/genis/popgen22/admixexercise/smallbams/small.NA11931.mapped.ILLUMINA.bwa.CEU.low_coverage.20130415.bam\r\n",
      "/ricco/data/genis/popgen22/admixexercise/smallbams/small.NA11994.mapped.ILLUMINA.bwa.CEU.low_coverage.20120522.bam\r\n",
      "/ricco/data/genis/popgen22/admixexercise/smallbams/small.NA19207.mapped.ILLUMINA.bwa.YRI.low_coverage.20130415.bam\r\n",
      "/ricco/data/genis/popgen22/admixexercise/smallbams/small.NA18548.mapped.ILLUMINA.bwa.CHB.low_coverage.20130415.bam\r\n",
      "/ricco/data/genis/popgen22/admixexercise/smallbams/small.NA19093.mapped.ILLUMINA.bwa.YRI.low_coverage.20130415.bam\r\n",
      "/ricco/data/genis/popgen22/admixexercise/smallbams/small.NA11840.mapped.ILLUMINA.bwa.CEU.low_coverage.20120522.bam\r\n",
      "/ricco/data/genis/popgen22/admixexercise/smallbams/small.NA18623.mapped.ILLUMINA.bwa.CHB.low_coverage.20130415.bam\r\n",
      "/ricco/data/genis/popgen22/admixexercise/smallbams/small.NA19184.mapped.ILLUMINA.bwa.YRI.low_coverage.20130415.bam\r\n",
      "/ricco/data/genis/popgen22/admixexercise/smallbams/small.NA20274.mapped.ILLUMINA.bwa.ASW.low_coverage.20130415.bam\r\n",
      "/ricco/data/genis/popgen22/admixexercise/smallbams/small.NA19102.mapped.ILLUMINA.bwa.YRI.low_coverage.20130415.bam\r\n",
      "/ricco/data/genis/popgen22/admixexercise/smallbams/small.NA20127.mapped.ILLUMINA.bwa.ASW.low_coverage.20120522.bam\r\n",
      "/ricco/data/genis/popgen22/admixexercise/smallbams/small.NA18486.mapped.ILLUMINA.bwa.YRI.low_coverage.20120522.bam\r\n",
      "/ricco/data/genis/popgen22/admixexercise/smallbams/small.NA12282.mapped.ILLUMINA.bwa.CEU.low_coverage.20130415.bam\r\n",
      "/ricco/data/genis/popgen22/admixexercise/smallbams/small.NA18539.mapped.ILLUMINA.bwa.CHB.low_coverage.20120522.bam\r\n",
      "/ricco/data/genis/popgen22/admixexercise/smallbams/small.NA12347.mapped.ILLUMINA.bwa.CEU.low_coverage.20130415.bam\r\n",
      "/ricco/data/genis/popgen22/admixexercise/smallbams/small.NA19149.mapped.ILLUMINA.bwa.YRI.low_coverage.20130415.bam\r\n",
      "/ricco/data/genis/popgen22/admixexercise/smallbams/small.NA18571.mapped.ILLUMINA.bwa.CHB.low_coverage.20130415.bam\r\n",
      "/ricco/data/genis/popgen22/admixexercise/smallbams/small.NA19117.mapped.ILLUMINA.bwa.YRI.low_coverage.20130415.bam\r\n",
      "/ricco/data/genis/popgen22/admixexercise/smallbams/small.NA12751.mapped.ILLUMINA.bwa.CEU.low_coverage.20130422.bam\r\n",
      "/ricco/data/genis/popgen22/admixexercise/smallbams/small.NA19153.mapped.ILLUMINA.bwa.YRI.low_coverage.20130415.bam\r\n",
      "/ricco/data/genis/popgen22/admixexercise/smallbams/small.NA19096.mapped.ILLUMINA.bwa.YRI.low_coverage.20130415.bam\r\n",
      "/ricco/data/genis/popgen22/admixexercise/smallbams/small.NA19779.mapped.ILLUMINA.bwa.MXL.low_coverage.20120522.bam\r\n",
      "/ricco/data/genis/popgen22/admixexercise/smallbams/small.NA12716.mapped.ILLUMINA.bwa.CEU.low_coverage.20130422.bam\r\n",
      "/ricco/data/genis/popgen22/admixexercise/smallbams/small.NA18629.mapped.ILLUMINA.bwa.CHB.low_coverage.20130415.bam\r\n",
      "/ricco/data/genis/popgen22/admixexercise/smallbams/small.NA20287.mapped.ILLUMINA.bwa.ASW.low_coverage.20120522.bam\r\n",
      "/ricco/data/genis/popgen22/admixexercise/smallbams/small.NA20317.mapped.ILLUMINA.bwa.ASW.low_coverage.20120522.bam\r\n",
      "/ricco/data/genis/popgen22/admixexercise/smallbams/small.NA11830.mapped.ILLUMINA.bwa.CEU.low_coverage.20120522.bam\r\n",
      "/ricco/data/genis/popgen22/admixexercise/smallbams/small.NA12776.mapped.ILLUMINA.bwa.CEU.low_coverage.20130415.bam\r\n",
      "/ricco/data/genis/popgen22/admixexercise/smallbams/small.NA11995.mapped.ILLUMINA.bwa.CEU.low_coverage.20120522.bam\r\n",
      "/ricco/data/genis/popgen22/admixexercise/smallbams/small.NA18502.mapped.ILLUMINA.bwa.YRI.low_coverage.20130415.bam\r\n",
      "/ricco/data/genis/popgen22/admixexercise/smallbams/small.NA19795.mapped.ILLUMINA.bwa.MXL.low_coverage.20130415.bam\r\n",
      "/ricco/data/genis/popgen22/admixexercise/smallbams/small.NA18560.mapped.ILLUMINA.bwa.CHB.low_coverage.20120522.bam\r\n",
      "/ricco/data/genis/popgen22/admixexercise/smallbams/small.NA19750.mapped.ILLUMINA.bwa.MXL.low_coverage.20120522.bam\r\n",
      "/ricco/data/genis/popgen22/admixexercise/smallbams/small.NA19719.mapped.ILLUMINA.bwa.MXL.low_coverage.20120522.bam\r\n",
      "/ricco/data/genis/popgen22/admixexercise/smallbams/small.NA18642.mapped.ILLUMINA.bwa.CHB.low_coverage.20130415.bam\r\n",
      "/ricco/data/genis/popgen22/admixexercise/smallbams/small.NA12154.mapped.ILLUMINA.bwa.CEU.low_coverage.20120522.bam\r\n",
      "/ricco/data/genis/popgen22/admixexercise/smallbams/small.NA19818.mapped.ILLUMINA.bwa.ASW.low_coverage.20120522.bam\r\n",
      "/ricco/data/genis/popgen22/admixexercise/smallbams/small.NA18867.mapped.ILLUMINA.bwa.YRI.low_coverage.20120522.bam\r\n",
      "/ricco/data/genis/popgen22/admixexercise/smallbams/small.NA19129.mapped.ILLUMINA.bwa.YRI.low_coverage.20130415.bam\r\n",
      "/ricco/data/genis/popgen22/admixexercise/smallbams/small.NA18597.mapped.ILLUMINA.bwa.CHB.low_coverage.20130415.bam\r\n",
      "/ricco/data/genis/popgen22/admixexercise/smallbams/small.NA18499.mapped.ILLUMINA.bwa.YRI.low_coverage.20130415.bam\r\n",
      "/ricco/data/genis/popgen22/admixexercise/smallbams/small.NA18572.mapped.ILLUMINA.bwa.CHB.low_coverage.20120522.bam\r\n",
      "/ricco/data/genis/popgen22/admixexercise/smallbams/small.NA18498.mapped.ILLUMINA.bwa.YRI.low_coverage.20120522.bam\r\n",
      "/ricco/data/genis/popgen22/admixexercise/smallbams/small.NA18535.mapped.ILLUMINA.bwa.CHB.low_coverage.20120522.bam\r\n",
      "/ricco/data/genis/popgen22/admixexercise/smallbams/small.NA18541.mapped.ILLUMINA.bwa.CHB.low_coverage.20120522.bam\r\n",
      "/ricco/data/genis/popgen22/admixexercise/smallbams/small.NA18757.mapped.ILLUMINA.bwa.CHB.low_coverage.20130415.bam\r\n",
      "/ricco/data/genis/popgen22/admixexercise/smallbams/small.NA19190.mapped.ILLUMINA.bwa.YRI.low_coverage.20130415.bam\r\n",
      "/ricco/data/genis/popgen22/admixexercise/smallbams/small.NA18877.mapped.ILLUMINA.bwa.YRI.low_coverage.20130415.bam\r\n",
      "/ricco/data/genis/popgen22/admixexercise/smallbams/small.NA20321.mapped.ILLUMINA.bwa.ASW.low_coverage.20130415.bam\r\n",
      "/ricco/data/genis/popgen22/admixexercise/smallbams/small.NA19669.mapped.ILLUMINA.bwa.MXL.low_coverage.20120522.bam\r\n",
      "/ricco/data/genis/popgen22/admixexercise/smallbams/small.NA18505.mapped.ILLUMINA.bwa.YRI.low_coverage.20130415.bam\r\n",
      "/ricco/data/genis/popgen22/admixexercise/smallbams/small.NA18858.mapped.ILLUMINA.bwa.YRI.low_coverage.20130415.bam\r\n",
      "/ricco/data/genis/popgen22/admixexercise/smallbams/small.NA19909.mapped.ILLUMINA.bwa.ASW.low_coverage.20120522.bam\r\n",
      "/ricco/data/genis/popgen22/admixexercise/smallbams/small.NA18596.mapped.ILLUMINA.bwa.CHB.low_coverage.20130415.bam\r\n",
      "/ricco/data/genis/popgen22/admixexercise/smallbams/small.NA19740.mapped.ILLUMINA.bwa.MXL.low_coverage.20130415.bam\r\n",
      "/ricco/data/genis/popgen22/admixexercise/smallbams/small.NA18648.mapped.ILLUMINA.bwa.CHB.low_coverage.20130415.bam\r\n",
      "/ricco/data/genis/popgen22/admixexercise/smallbams/small.NA07000.mapped.ILLUMINA.bwa.CEU.low_coverage.20130415.bam\r\n",
      "/ricco/data/genis/popgen22/admixexercise/smallbams/small.NA20359.mapped.ILLUMINA.bwa.ASW.low_coverage.20130415.bam\r\n",
      "/ricco/data/genis/popgen22/admixexercise/smallbams/small.NA19225.mapped.ILLUMINA.bwa.YRI.low_coverage.20130415.bam\r\n",
      "/ricco/data/genis/popgen22/admixexercise/smallbams/small.NA11843.mapped.ILLUMINA.bwa.CEU.low_coverage.20120522.bam\r\n",
      "/ricco/data/genis/popgen22/admixexercise/smallbams/small.NA12778.mapped.ILLUMINA.bwa.CEU.low_coverage.20130415.bam\r\n",
      "/ricco/data/genis/popgen22/admixexercise/smallbams/small.NA18609.mapped.ILLUMINA.bwa.CHB.low_coverage.20120522.bam\r\n",
      "/ricco/data/genis/popgen22/admixexercise/smallbams/small.NA19116.mapped.ILLUMINA.bwa.YRI.low_coverage.20120522.bam\r\n",
      "/ricco/data/genis/popgen22/admixexercise/smallbams/small.NA18881.mapped.ILLUMINA.bwa.YRI.low_coverage.20130415.bam\r\n",
      "/ricco/data/genis/popgen22/admixexercise/smallbams/small.NA19770.mapped.ILLUMINA.bwa.MXL.low_coverage.20120522.bam\r\n",
      "/ricco/data/genis/popgen22/admixexercise/smallbams/small.NA12144.mapped.ILLUMINA.bwa.CEU.low_coverage.20130415.bam\r\n",
      "/ricco/data/genis/popgen22/admixexercise/smallbams/small.NA18550.mapped.ILLUMINA.bwa.CHB.low_coverage.20130415.bam\r\n",
      "/ricco/data/genis/popgen22/admixexercise/smallbams/small.NA19098.mapped.ILLUMINA.bwa.YRI.low_coverage.20130415.bam\r\n",
      "/ricco/data/genis/popgen22/admixexercise/smallbams/small.NA18488.mapped.ILLUMINA.bwa.YRI.low_coverage.20120522.bam\r\n",
      "/ricco/data/genis/popgen22/admixexercise/smallbams/small.NA20278.mapped.ILLUMINA.bwa.ASW.low_coverage.20120522.bam\r\n",
      "/ricco/data/genis/popgen22/admixexercise/smallbams/small.NA20318.mapped.ILLUMINA.bwa.ASW.low_coverage.20130415.bam\r\n",
      "/ricco/data/genis/popgen22/admixexercise/smallbams/small.NA19923.mapped.ILLUMINA.bwa.ASW.low_coverage.20130415.bam\r\n",
      "/ricco/data/genis/popgen22/admixexercise/smallbams/small.NA06985.mapped.ILLUMINA.bwa.CEU.low_coverage.20120522.bam\r\n",
      "/ricco/data/genis/popgen22/admixexercise/smallbams/small.NA19141.mapped.ILLUMINA.bwa.YRI.low_coverage.20120522.bam\r\n",
      "/ricco/data/genis/popgen22/admixexercise/smallbams/small.NA20320.mapped.ILLUMINA.bwa.ASW.low_coverage.20130415.bam\r\n",
      "/ricco/data/genis/popgen22/admixexercise/smallbams/small.NA18546.mapped.ILLUMINA.bwa.CHB.low_coverage.20130415.bam\r\n",
      "/ricco/data/genis/popgen22/admixexercise/smallbams/small.NA18532.mapped.ILLUMINA.bwa.CHB.low_coverage.20130415.bam\r\n",
      "/ricco/data/genis/popgen22/admixexercise/smallbams/small.NA18544.mapped.ILLUMINA.bwa.CHB.low_coverage.20130415.bam\r\n",
      "/ricco/data/genis/popgen22/admixexercise/smallbams/small.NA10851.mapped.ILLUMINA.bwa.CEU.low_coverage.20130415.bam\r\n",
      "/ricco/data/genis/popgen22/admixexercise/smallbams/small.NA12283.mapped.ILLUMINA.bwa.CEU.low_coverage.20130415.bam\r\n",
      "/ricco/data/genis/popgen22/admixexercise/smallbams/small.NA18510.mapped.ILLUMINA.bwa.YRI.low_coverage.20130415.bam\r\n",
      "/ricco/data/genis/popgen22/admixexercise/smallbams/small.NA19236.mapped.ILLUMINA.bwa.YRI.low_coverage.20120522.bam\r\n",
      "/ricco/data/genis/popgen22/admixexercise/smallbams/small.NA20356.mapped.ILLUMINA.bwa.ASW.low_coverage.20120522.bam\r\n",
      "/ricco/data/genis/popgen22/admixexercise/smallbams/small.NA12749.mapped.ILLUMINA.bwa.CEU.low_coverage.20130415.bam\r\n",
      "/ricco/data/genis/popgen22/admixexercise/smallbams/small.NA19707.mapped.ILLUMINA.bwa.ASW.low_coverage.20120522.bam\r\n",
      "/ricco/data/genis/popgen22/admixexercise/smallbams/small.NA18923.mapped.ILLUMINA.bwa.YRI.low_coverage.20120522.bam\r\n",
      "/ricco/data/genis/popgen22/admixexercise/smallbams/small.NA18910.mapped.ILLUMINA.bwa.YRI.low_coverage.20120522.bam\r\n",
      "/ricco/data/genis/popgen22/admixexercise/smallbams/small.NA19657.mapped.ILLUMINA.bwa.MXL.low_coverage.20120522.bam\r\n",
      "/ricco/data/genis/popgen22/admixexercise/smallbams/small.NA12249.mapped.ILLUMINA.bwa.CEU.low_coverage.20120522.bam\r\n",
      "/ricco/data/genis/popgen22/admixexercise/smallbams/small.NA19777.mapped.ILLUMINA.bwa.MXL.low_coverage.20120522.bam\r\n",
      "/ricco/data/genis/popgen22/admixexercise/smallbams/small.NA19171.mapped.ILLUMINA.bwa.YRI.low_coverage.20120522.bam\r\n",
      "/ricco/data/genis/popgen22/admixexercise/smallbams/small.NA12273.mapped.ILLUMINA.bwa.CEU.low_coverage.20121211.bam\r\n",
      "/ricco/data/genis/popgen22/admixexercise/smallbams/small.NA19159.mapped.ILLUMINA.bwa.YRI.low_coverage.20130415.bam\r\n",
      "/ricco/data/genis/popgen22/admixexercise/smallbams/small.NA18864.mapped.ILLUMINA.bwa.YRI.low_coverage.20130415.bam\r\n",
      "/ricco/data/genis/popgen22/admixexercise/smallbams/small.NA19661.mapped.ILLUMINA.bwa.MXL.low_coverage.20120522.bam\r\n",
      "/ricco/data/genis/popgen22/admixexercise/smallbams/small.NA12718.mapped.ILLUMINA.bwa.CEU.low_coverage.20120522.bam\r\n",
      "/ricco/data/genis/popgen22/admixexercise/smallbams/small.NA20299.mapped.ILLUMINA.bwa.ASW.low_coverage.20120522.bam\r\n",
      "/ricco/data/genis/popgen22/admixexercise/smallbams/small.NA19921.mapped.ILLUMINA.bwa.ASW.low_coverage.20120522.bam\r\n",
      "/ricco/data/genis/popgen22/admixexercise/smallbams/small.NA11894.mapped.ILLUMINA.bwa.CEU.low_coverage.20130415.bam\r\n",
      "/ricco/data/genis/popgen22/admixexercise/smallbams/small.NA18617.mapped.ILLUMINA.bwa.CHB.low_coverage.20120522.bam\r\n",
      "/ricco/data/genis/popgen22/admixexercise/smallbams/small.NA19213.mapped.ILLUMINA.bwa.YRI.low_coverage.20120522.bam\r\n",
      "/ricco/data/genis/popgen22/admixexercise/smallbams/small.NA19704.mapped.ILLUMINA.bwa.ASW.low_coverage.20120522.bam\r\n",
      "/ricco/data/genis/popgen22/admixexercise/smallbams/small.NA19137.mapped.ILLUMINA.bwa.YRI.low_coverage.20130415.bam\r\n",
      "/ricco/data/genis/popgen22/admixexercise/smallbams/small.NA11930.mapped.ILLUMINA.bwa.CEU.low_coverage.20130415.bam\r\n",
      "/ricco/data/genis/popgen22/admixexercise/smallbams/small.NA19092.mapped.ILLUMINA.bwa.YRI.low_coverage.20120522.bam\r\n",
      "/ricco/data/genis/popgen22/admixexercise/smallbams/small.NA18868.mapped.ILLUMINA.bwa.YRI.low_coverage.20120522.bam\r\n",
      "/ricco/data/genis/popgen22/admixexercise/smallbams/small.NA20342.mapped.ILLUMINA.bwa.ASW.low_coverage.20120522.bam\r\n",
      "/ricco/data/genis/popgen22/admixexercise/smallbams/small.NA18563.mapped.ILLUMINA.bwa.CHB.low_coverage.20130415.bam\r\n",
      "/ricco/data/genis/popgen22/admixexercise/smallbams/small.NA19204.mapped.ILLUMINA.bwa.YRI.low_coverage.20120522.bam\r\n",
      "/ricco/data/genis/popgen22/admixexercise/smallbams/small.NA18517.mapped.ILLUMINA.bwa.YRI.low_coverage.20130415.bam\r\n",
      "/ricco/data/genis/popgen22/admixexercise/smallbams/small.NA18536.mapped.ILLUMINA.bwa.CHB.low_coverage.20130415.bam\r\n",
      "/ricco/data/genis/popgen22/admixexercise/smallbams/small.NA12044.mapped.ILLUMINA.bwa.CEU.low_coverage.20121211.bam\r\n",
      "/ricco/data/genis/popgen22/admixexercise/smallbams/small.NA19916.mapped.ILLUMINA.bwa.ASW.low_coverage.20120522.bam\r\n",
      "/ricco/data/genis/popgen22/admixexercise/smallbams/small.NA19664.mapped.ILLUMINA.bwa.MXL.low_coverage.20120522.bam\r\n",
      "/ricco/data/genis/popgen22/admixexercise/smallbams/small.NA19146.mapped.ILLUMINA.bwa.YRI.low_coverage.20130415.bam\r\n",
      "/ricco/data/genis/popgen22/admixexercise/smallbams/small.NA18593.mapped.ILLUMINA.bwa.CHB.low_coverage.20130415.bam\r\n",
      "/ricco/data/genis/popgen22/admixexercise/smallbams/small.NA19731.mapped.ILLUMINA.bwa.MXL.low_coverage.20120522.bam\r\n",
      "/ricco/data/genis/popgen22/admixexercise/smallbams/small.NA18526.mapped.ILLUMINA.bwa.CHB.low_coverage.20130415.bam\r\n",
      "/ricco/data/genis/popgen22/admixexercise/smallbams/small.NA18876.mapped.ILLUMINA.bwa.YRI.low_coverage.20130415.bam\r\n",
      "/ricco/data/genis/popgen22/admixexercise/smallbams/small.NA18612.mapped.ILLUMINA.bwa.CHB.low_coverage.20130415.bam\r\n",
      "/ricco/data/genis/popgen22/admixexercise/smallbams/small.NA19648.mapped.ILLUMINA.bwa.MXL.low_coverage.20120522.bam\r\n",
      "/ricco/data/genis/popgen22/admixexercise/smallbams/small.NA19256.mapped.ILLUMINA.bwa.YRI.low_coverage.20130415.bam\r\n",
      "/ricco/data/genis/popgen22/admixexercise/smallbams/small.NA18628.mapped.ILLUMINA.bwa.CHB.low_coverage.20120522.bam\r\n",
      "/ricco/data/genis/popgen22/admixexercise/smallbams/small.NA19834.mapped.ILLUMINA.bwa.ASW.low_coverage.20120522.bam\r\n",
      "/ricco/data/genis/popgen22/admixexercise/smallbams/small.NA18907.mapped.ILLUMINA.bwa.YRI.low_coverage.20130415.bam\r\n",
      "/ricco/data/genis/popgen22/admixexercise/smallbams/small.NA18542.mapped.ILLUMINA.bwa.CHB.low_coverage.20130415.bam\r\n",
      "/ricco/data/genis/popgen22/admixexercise/smallbams/small.NA19984.mapped.ILLUMINA.bwa.ASW.low_coverage.20130415.bam\r\n",
      "/ricco/data/genis/popgen22/admixexercise/smallbams/small.NA18634.mapped.ILLUMINA.bwa.CHB.low_coverage.20120522.bam\r\n",
      "/ricco/data/genis/popgen22/admixexercise/smallbams/small.NA18646.mapped.ILLUMINA.bwa.CHB.low_coverage.20130415.bam\r\n",
      "/ricco/data/genis/popgen22/admixexercise/smallbams/small.NA18558.mapped.ILLUMINA.bwa.CHB.low_coverage.20130415.bam\r\n",
      "/ricco/data/genis/popgen22/admixexercise/smallbams/small.NA12829.mapped.ILLUMINA.bwa.CEU.low_coverage.20130415.bam\r\n",
      "/ricco/data/genis/popgen22/admixexercise/smallbams/small.NA12234.mapped.ILLUMINA.bwa.CEU.low_coverage.20130415.bam\r\n",
      "/ricco/data/genis/popgen22/admixexercise/smallbams/small.NA18522.mapped.ILLUMINA.bwa.YRI.low_coverage.20120522.bam\r\n",
      "/ricco/data/genis/popgen22/admixexercise/smallbams/small.NA20298.mapped.ILLUMINA.bwa.ASW.low_coverage.20130415.bam\r\n",
      "/ricco/data/genis/popgen22/admixexercise/smallbams/small.NA18637.mapped.ILLUMINA.bwa.CHB.low_coverage.20130415.bam\r\n",
      "/ricco/data/genis/popgen22/admixexercise/smallbams/small.NA19131.mapped.ILLUMINA.bwa.YRI.low_coverage.20120522.bam\r\n",
      "/ricco/data/genis/popgen22/admixexercise/smallbams/small.NA11893.mapped.ILLUMINA.bwa.CEU.low_coverage.20130415.bam\r\n",
      "/ricco/data/genis/popgen22/admixexercise/smallbams/small.NA19771.mapped.ILLUMINA.bwa.MXL.low_coverage.20120522.bam\r\n",
      "/ricco/data/genis/popgen22/admixexercise/smallbams/small.NA19682.mapped.ILLUMINA.bwa.MXL.low_coverage.20120522.bam\r\n",
      "/ricco/data/genis/popgen22/admixexercise/smallbams/small.NA19711.mapped.ILLUMINA.bwa.ASW.low_coverage.20120522.bam\r\n",
      "/ricco/data/genis/popgen22/admixexercise/smallbams/small.NA19160.mapped.ILLUMINA.bwa.YRI.low_coverage.20120522.bam\r\n",
      "/ricco/data/genis/popgen22/admixexercise/smallbams/small.NA18647.mapped.ILLUMINA.bwa.CHB.low_coverage.20130415.bam\r\n",
      "/ricco/data/genis/popgen22/admixexercise/smallbams/small.NA18917.mapped.ILLUMINA.bwa.YRI.low_coverage.20120522.bam\r\n",
      "/ricco/data/genis/popgen22/admixexercise/smallbams/small.NA18603.mapped.ILLUMINA.bwa.CHB.low_coverage.20130415.bam\r\n",
      "/ricco/data/genis/popgen22/admixexercise/smallbams/small.NA18625.mapped.ILLUMINA.bwa.CHB.low_coverage.20130415.bam\r\n",
      "/ricco/data/genis/popgen22/admixexercise/smallbams/small.NA18627.mapped.ILLUMINA.bwa.CHB.low_coverage.20130415.bam\r\n",
      "/ricco/data/genis/popgen22/admixexercise/smallbams/small.NA18916.mapped.ILLUMINA.bwa.YRI.low_coverage.20130415.bam\r\n",
      "/ricco/data/genis/popgen22/admixexercise/smallbams/small.NA18645.mapped.ILLUMINA.bwa.CHB.low_coverage.20130415.bam\r\n",
      "/ricco/data/genis/popgen22/admixexercise/smallbams/small.NA18574.mapped.ILLUMINA.bwa.CHB.low_coverage.20120522.bam\r\n",
      "/ricco/data/genis/popgen22/admixexercise/smallbams/small.NA19774.mapped.ILLUMINA.bwa.MXL.low_coverage.20120522.bam\r\n",
      "/ricco/data/genis/popgen22/admixexercise/smallbams/small.NA12748.mapped.ILLUMINA.bwa.CEU.low_coverage.20130415.bam\r\n",
      "/ricco/data/genis/popgen22/admixexercise/smallbams/small.NA07357.mapped.ILLUMINA.bwa.CEU.low_coverage.20130415.bam\r\n",
      "/ricco/data/genis/popgen22/admixexercise/smallbams/small.NA19729.mapped.ILLUMINA.bwa.MXL.low_coverage.20120522.bam\r\n",
      "/ricco/data/genis/popgen22/admixexercise/smallbams/small.NA20412.mapped.ILLUMINA.bwa.ASW.low_coverage.20130415.bam\r\n",
      "/ricco/data/genis/popgen22/admixexercise/smallbams/small.NA18516.mapped.ILLUMINA.bwa.YRI.low_coverage.20120522.bam\r\n",
      "/ricco/data/genis/popgen22/admixexercise/smallbams/small.NA12842.mapped.ILLUMINA.bwa.CEU.low_coverage.20130415.bam\r\n",
      "/ricco/data/genis/popgen22/admixexercise/smallbams/small.NA19147.mapped.ILLUMINA.bwa.YRI.low_coverage.20130415.bam\r\n",
      "/ricco/data/genis/popgen22/admixexercise/smallbams/small.NA12812.mapped.ILLUMINA.bwa.CEU.low_coverage.20130415.bam\r\n",
      "/ricco/data/genis/popgen22/admixexercise/smallbams/small.NA18531.mapped.ILLUMINA.bwa.CHB.low_coverage.20130415.bam\r\n",
      "/ricco/data/genis/popgen22/admixexercise/smallbams/small.NA19238.mapped.ILLUMINA.bwa.YRI.low_coverage.20130415.bam\r\n",
      "/ricco/data/genis/popgen22/admixexercise/smallbams/small.NA19655.mapped.ILLUMINA.bwa.MXL.low_coverage.20120522.bam\r\n",
      "/ricco/data/genis/popgen22/admixexercise/smallbams/small.NA19172.mapped.ILLUMINA.bwa.YRI.low_coverage.20120522.bam\r\n",
      "/ricco/data/genis/popgen22/admixexercise/smallbams/small.NA12889.mapped.ILLUMINA.bwa.CEU.low_coverage.20130415.bam\r\n",
      "/ricco/data/genis/popgen22/admixexercise/smallbams/small.NA19728.mapped.ILLUMINA.bwa.MXL.low_coverage.20120522.bam\r\n",
      "/ricco/data/genis/popgen22/admixexercise/smallbams/small.NA19764.mapped.ILLUMINA.bwa.MXL.low_coverage.20130415.bam\r\n",
      "/ricco/data/genis/popgen22/admixexercise/smallbams/small.NA19723.mapped.ILLUMINA.bwa.MXL.low_coverage.20120522.bam\r\n",
      "/ricco/data/genis/popgen22/admixexercise/smallbams/small.NA06984.mapped.ILLUMINA.bwa.CEU.low_coverage.20120522.bam\r\n",
      "/ricco/data/genis/popgen22/admixexercise/smallbams/small.NA19654.mapped.ILLUMINA.bwa.MXL.low_coverage.20120522.bam\r\n",
      "/ricco/data/genis/popgen22/admixexercise/smallbams/small.NA19700.mapped.ILLUMINA.bwa.ASW.low_coverage.20120522.bam\r\n",
      "/ricco/data/genis/popgen22/admixexercise/smallbams/small.NA18618.mapped.ILLUMINA.bwa.CHB.low_coverage.20120522.bam\r\n",
      "/ricco/data/genis/popgen22/admixexercise/smallbams/small.NA18562.mapped.ILLUMINA.bwa.CHB.low_coverage.20130415.bam\r\n",
      "/ricco/data/genis/popgen22/admixexercise/smallbams/small.NA18559.mapped.ILLUMINA.bwa.CHB.low_coverage.20130415.bam\r\n",
      "/ricco/data/genis/popgen22/admixexercise/smallbams/small.NA19701.mapped.ILLUMINA.bwa.ASW.low_coverage.20120522.bam\r\n",
      "/ricco/data/genis/popgen22/admixexercise/smallbams/small.NA18626.mapped.ILLUMINA.bwa.CHB.low_coverage.20130415.bam\r\n",
      "/ricco/data/genis/popgen22/admixexercise/smallbams/small.NA19651.mapped.ILLUMINA.bwa.MXL.low_coverage.20120522.bam\r\n",
      "/ricco/data/genis/popgen22/admixexercise/smallbams/small.NA12348.mapped.ILLUMINA.bwa.CEU.low_coverage.20130415.bam\r\n",
      "/ricco/data/genis/popgen22/admixexercise/smallbams/small.NA18511.mapped.ILLUMINA.bwa.YRI.low_coverage.20130415.bam\r\n",
      "\n"
     ]
    }
   ],
   "source": [
    "cat all.files"
   ]
  },
  {
   "cell_type": "markdown",
   "id": "6639899c",
   "metadata": {
    "kernel": "Bash"
   },
   "source": [
    "Now calculate GLs from all the BAM files using ANGSD by running the following command in the terminal:"
   ]
  },
  {
   "cell_type": "code",
   "execution_count": 4,
   "id": "db2e6556",
   "metadata": {
    "kernel": "Bash",
    "scrolled": true
   },
   "outputs": [
    {
     "name": "stdout",
     "output_type": "stream",
     "text": [
      "\t-> Problem with difference in zlib version used for compiling and linking\r\n",
      "\t-> ZLIB_VERSION: 1.2.8 zlibversion: 1.2.11 \r\n",
      "\t-> angsd version: 0.913-52-gae40176 (htslib: 1.3.2-129-gdaae2ea) build(Oct  9 2016 13:51:08)\r\n",
      "\t-> SNP-filter using a pvalue: 2.000000e-06 correspond to 22.595043 likelihood units\r\n",
      "\t-> Parsing 435 number of samples \r\n",
      "\r\n",
      "\t-> Allocated ~ 10 Megabytes to the nodepool\r\n",
      "\r\n",
      "\t-> Allocated ~ 20 Megabytes to the nodepool\r\n",
      "\r\n",
      "\t-> Allocated ~ 30 Megabytes to the nodepool\r\n",
      "\r\n",
      "\t-> Allocated ~ 40 Megabytes to the nodepool\r\n",
      "\r\n",
      "\t-> Allocated ~ 50 Megabytes to the nodepool\r\n",
      "\r\n",
      "\t-> Allocated ~ 60 Megabytes to the nodepool\r\n",
      "\r\n",
      "\t-> Allocated ~ 70 Megabytes to the nodepool\r\n",
      "\r\n",
      "\t-> Allocated ~ 80 Megabytes to the nodepool\r\n",
      "\r\n",
      "\t-> Allocated ~ 90 Megabytes to the nodepool\r\n",
      "\r\n",
      "\t-> Allocated ~ 100 Megabytes to the nodepool\r\n",
      "\r\n",
      "\t-> Allocated ~ 110 Megabytes to the nodepool\r\n",
      "\r",
      "\t-> Printing at chr: 7 pos:20911210 chunknumber 100 contains 2 sites\r",
      "\t-> Printing at chr: 14 pos:20692360 chunknumber 200 contains 699 sites\r\n",
      "\t-> Allocated ~ 120 Megabytes to the nodepool\r\n",
      "\r\n",
      "\t-> Done reading data waiting for calculations to finish\r\n",
      "\t-> Done waiting for threads\r\n",
      "\t-> Output filenames:\r\n",
      "\t\t->\"all.arg\"\r\n",
      "\t\t->\"all.beagle.gz\"\r\n",
      "\t\t->\"all.mafs.gz\"\r\n",
      "\t-> Fri Aug 19 12:16:25 2022\r\n",
      "\t-> Arguments and parameters for all analysis are located in .arg file\r\n",
      "\t[ALL done] cpu-time used =  133.65 sec\r\n",
      "\t[ALL done] walltime used =  52.00 sec\r\n",
      "\n"
     ]
    }
   ],
   "source": [
    "$ANGSD -bam all.files -GL 2 -doMajorMinor 1 -doMaf 1 -SNP_pval 2e-6 -minMapQ 30 -minQ 20 -minInd 25 -minMaf 0.05 -doGlf 2 -out all -P 5"
   ]
  },
  {
   "cell_type": "markdown",
   "id": "eaaa5216",
   "metadata": {
    "kernel": "Bash"
   },
   "source": [
    "NOTE that this will take a bit of time to run (around a minute). While waiting, try to remember what the different options used mean (you have seen most of them in previous exercises). If you do not remember all of them, then try to ask the person next to you. And if neither of you remember then try to figure it out by looking for help on the ANGSD webpage e.g. [here](http://www.popgen.dk/angsd/index.php/Genotype_Likelihoods), [here](http://www.popgen.dk/angsd/index.php/Major_Minor) and [here](http://www.popgen.dk/angsd/index.php/Filters).\n",
    "\n",
    "If ANGSD hasn't finished running yet and you are tired of waiting for it to do so, then stop it (by typing Ctrl-C) and copy the resulting files (pre-made by us) by typing:"
   ]
  },
  {
   "cell_type": "code",
   "execution_count": 5,
   "id": "e7847c55",
   "metadata": {
    "kernel": "Bash"
   },
   "outputs": [
    {
     "name": "stdout",
     "output_type": "stream",
     "text": [
      "\n"
     ]
    }
   ],
   "source": [
    "cp /ricco/data/genis/popgen22/admixexercise/smalladmix/input/all.* ."
   ]
  },
  {
   "cell_type": "markdown",
   "id": "73ad3883",
   "metadata": {
    "kernel": "Bash"
   },
   "source": [
    "## Explore the input data\n",
    "\n",
    "Now let's have a look at the GL file that you have created with ANGSD. It is a \"beagle format\" file called all.beagle.gz - and will be the input file to NGSadmix. The first line in this file is a header line and after that it contains a line for each locus with GLs. By using the unix command wc we can count the number of lines in the file:"
   ]
  },
  {
   "cell_type": "code",
   "execution_count": 6,
   "id": "0cafdb54",
   "metadata": {
    "kernel": "Bash"
   },
   "outputs": [
    {
     "name": "stdout",
     "output_type": "stream",
     "text": [
      "1307\r\n",
      "\n"
     ]
    }
   ],
   "source": [
    "gunzip -c all.beagle.gz | wc -l"
   ]
  },
  {
   "cell_type": "markdown",
   "id": "5eb1d865",
   "metadata": {
    "kernel": "Bash"
   },
   "source": [
    "- Use this to find out how many loci there are GLs for in the data set?"
   ]
  },
  {
   "cell_type": "markdown",
   "id": "2e6663c7",
   "metadata": {
    "kernel": "Bash"
   },
   "source": [
    "Next, to get an idea of what the GL file contains try from the command line to print the first 9 columns of the first 7 lines of the file:"
   ]
  },
  {
   "cell_type": "code",
   "execution_count": 8,
   "id": "9a8bb790",
   "metadata": {
    "kernel": "Bash"
   },
   "outputs": [
    {
     "name": "stdout",
     "output_type": "stream",
     "text": [
      "\r\n",
      "gzip: stdout: Broken pipe\r\n",
      "marker      allele1  allele2  Ind0      Ind0      Ind0      Ind1      Ind1      Ind1\r\n",
      "1_20018051  2        1        0.333333  0.333333  0.333333  0.000028  0.333333  0.666639\r\n",
      "1_20018077  1        3        0.333333  0.333333  0.333333  0.941144  0.058856  0.000000\r\n",
      "1_20018091  3        1        0.333333  0.333333  0.333333  0.000000  0.058845  0.941155\r\n",
      "1_20018096  2        0        0.333333  0.333333  0.333333  0.888876  0.111124  0.000000\r\n",
      "1_20018195  2        0        0.799972  0.200028  0.000000  0.000000  0.111137  0.888863\r\n",
      "1_20050859  3        1        0.000140  0.333333  0.666526  0.799987  0.200013  0.000000\r\n",
      "\n"
     ]
    }
   ],
   "source": [
    "gunzip -c all.beagle.gz | head -n 7 | cut -f1-9 | column -t"
   ]
  },
  {
   "cell_type": "markdown",
   "id": "552540d1",
   "metadata": {
    "kernel": "Bash"
   },
   "source": [
    "In general, the first three columns of a beagle file contain marker name and the two alleles, allele1 and allele2, present in the locus (in beagle A=0, C=1, G=2, T=3). All following columns contain genotype likelihoods (three columns for each individual: first GL for homozygote for allele1, then GL for heterozygote and then GL for homozygote for allele2). Note that the GL values sum to one per site for each individuals. This is just a normalization of the genotype likelihoods in order to avoid underflow problems in the beagle software it does not mean that they are genotype probabilities.\n",
    "\n",
    "- Based on this, what is the most likely for ind0 in the first locus? And for ind1 in the second locus?"
   ]
  },
  {
   "cell_type": "markdown",
   "id": "e86fb418",
   "metadata": {
    "kernel": "Bash"
   },
   "source": [
    "## Run an analysis of the data with NGSadmix\n",
    "\n",
    "Now you know how the input looks. Next, let's try to perform an NGSadmix analyses of the GLs typing assuming the number of ancestral populations, K, is 3:"
   ]
  },
  {
   "cell_type": "code",
   "execution_count": 14,
   "id": "b12cf973",
   "metadata": {
    "kernel": "Bash"
   },
   "outputs": [
    {
     "name": "stdout",
     "output_type": "stream",
     "text": [
      "\t-> Dumping file: all.log\r\n",
      "\t-> Dumping file: all.filter\r\n",
      "Input: lname=all.beagle.gz nPop=3, fname=(null) qname=(null) outfiles=all\r\n",
      "Setup: seed=1 nThreads=1 method=1\r\n",
      "Convergence: maxIter=2000 tol=0.000010 tolLike50=0.100000 dymBound=0\r\n",
      "Filters: misTol=0.050000 minMaf=0.050000 minLrt=0.000000 minInd=0\r\n",
      "Input file has dim: nsites=1306 nind=435\r\n",
      "Input file has dim (AFTER filtering): nsites=1306 nind=435\r\n",
      "iter[start] like is=724956.880245\r\n",
      "iter[50] like is=-454872.633474 thres=0.015016\r\n",
      "iter[100] like is=-454481.006773 thres=0.001095\r\n",
      "iter[150] like is=-454475.170669 thres=0.000155\r\n",
      "EM accelerated has reached convergence with tol 0.000010\r\n",
      "best like=-454474.828385 after 188 iterations\r\n",
      "\t-> Dumping file: all.qopt\r\n",
      "\t-> Dumping file: all.fopt.gz\r\n",
      "\t[ALL done] cpu-time used =  9.34 sec\r\n",
      "\t[ALL done] walltime used =  9.00 sec\r\n",
      "\n"
     ]
    }
   ],
   "source": [
    "$NGSadmix -likes all.beagle.gz -K 3 -minMaf 0.05 -seed 1 -o all"
   ]
  },
  {
   "cell_type": "markdown",
   "id": "91182cf2",
   "metadata": {
    "kernel": "Bash"
   },
   "source": [
    "- While waiting for the analysis to run then make sure you understand the command. If you are in doubt seek help [here](http://www.popgen.dk/software/index.php/NgsAdmix#Parameters). Here you can also see what other options you have when you run an NGSadmix analyses.\n"
   ]
  },
  {
   "cell_type": "markdown",
   "id": "58f4a170",
   "metadata": {
    "kernel": "Bash"
   },
   "source": [
    "## Explore the output\n",
    "\n",
    "The output from the analysis you just ran is three files:\n",
    "\n",
    "- all.log (a \"log file\" that summarizes the analysis run)\n",
    "- all.fopt.gz (an \"fopt file\", which has a line for each locus that contains an estimate of the allele frequency in each of the 3 assumed ancestral populations)\n",
    "- all.qopt (a \"qopt file\", which has a line for each individual that contains anestimate of the individual's ancestry proportion from each of the three assumed ancestral populations).\n",
    "\n",
    "Let's have a look at them one at a time. First, check the log file by typing"
   ]
  },
  {
   "cell_type": "code",
   "execution_count": 10,
   "id": "f4c533b7",
   "metadata": {
    "kernel": "Bash"
   },
   "outputs": [
    {
     "name": "stdout",
     "output_type": "stream",
     "text": [
      "Input: lname=all.beagle.gz nPop=3, fname=(null) qname=(null) outfiles=all\r\n",
      "Setup: seed=1 nThreads=1 method=1\r\n",
      "Convergence: maxIter=2000 tol=0.000010 tolLike50=0.100000 dymBound=0\r\n",
      "Filters: misTol=0.050000 minMaf=0.050000 minLrt=0.000000 minInd=0\r\n",
      "Input file has dim: nsites=1306 nind=435\r\n",
      "Input file has dim (AFTER filtering): nsites=1306 nind=435\r\n",
      "\t[ALL done] cpu-time used =  9.99 sec\r\n",
      "\t[ALL done] walltime used =  10.00 sec\r\n",
      "best like=-454474.828385 after 188 iterations\r\n",
      "\n"
     ]
    }
   ],
   "source": [
    "cat all.log"
   ]
  },
  {
   "cell_type": "markdown",
   "id": "090f494d",
   "metadata": {
    "kernel": "Bash"
   },
   "source": [
    "- What is the log likelihood of the estimates achieved by NGSadmix (called \"best like\" in the log file)?\n",
    "\n",
    "Next, check the first line of the fopt file by typing:"
   ]
  },
  {
   "cell_type": "code",
   "execution_count": 15,
   "id": "15931212",
   "metadata": {
    "kernel": "Bash"
   },
   "outputs": [
    {
     "name": "stdout",
     "output_type": "stream",
     "text": [
      "0.74462749128613758831 0.29917014202032143899 0.38076568446468489482 \r\n",
      "\r\n",
      "gzip: stdout: Broken pipe\r\n",
      "\n"
     ]
    }
   ],
   "source": [
    "zcat all.fopt.gz | head -n1"
   ]
  },
  {
   "cell_type": "markdown",
   "id": "7d7a5c8f",
   "metadata": {
    "kernel": "Bash"
   },
   "source": [
    "- Based on this: what is the estimated allele frequency at the first locus in the three assumed ancestral populations?\n",
    "\n",
    "Finally, check the first line of the qopt file and thus the estimated admixture proportions for the first individuals by typing:"
   ]
  },
  {
   "cell_type": "code",
   "execution_count": 16,
   "id": "9b3a5b1b",
   "metadata": {
    "kernel": "Bash"
   },
   "outputs": [
    {
     "name": "stdout",
     "output_type": "stream",
     "text": [
      "0.08016251065576759927 0.05227806237612714346 0.86755942696810528503 \r\n",
      "\n"
     ]
    }
   ],
   "source": [
    "head -n1 all.qopt"
   ]
  },
  {
   "cell_type": "markdown",
   "id": "477b2e9b",
   "metadata": {
    "kernel": "R"
   },
   "source": [
    "- Based on this: does the individual look admixed?\n",
    "\n",
    "You can see the ID of the first individual by getting the first line of the file you created with all your original bam files in the beginning:"
   ]
  },
  {
   "cell_type": "code",
   "execution_count": 17,
   "id": "5b876c2b",
   "metadata": {
    "kernel": "Bash"
   },
   "outputs": [
    {
     "name": "stdout",
     "output_type": "stream",
     "text": [
      "small.NA20281.mapped.ILLUMINA.bwa.ASW.low_coverage.20120522.bam\r\n",
      "\n"
     ]
    }
   ],
   "source": [
    "head -n1 all.files | xargs basename"
   ]
  },
  {
   "cell_type": "markdown",
   "id": "2d7e778e",
   "metadata": {
    "kernel": "Bash"
   },
   "source": [
    "- Based on that ID, which population does the individual come from?\n",
    "- What does this suggest about what column to look for the frequencies for that population in the pop file?\n",
    "- Based on this and the frequency estimates for the first locus that you looked at earlier, what does NGSadmix estimate the allele frequency to be at the first locus in that population?"
   ]
  },
  {
   "cell_type": "markdown",
   "id": "4e003f52",
   "metadata": {
    "kernel": "Bash"
   },
   "source": [
    "## Plot the admixture proportion estimates\n",
    "\n",
    "Finally, try to make a simple plot the estimated admixture proportions for all the individuals by opening the statistical program called R (which you do by typing \"R\" in the terminal and pressing enter) and then copy pasting the following code:"
   ]
  },
  {
   "cell_type": "code",
   "execution_count": 18,
   "id": "bd3547e3",
   "metadata": {
    "kernel": "R"
   },
   "outputs": [
    {
     "name": "stderr",
     "output_type": "stream",
     "text": [
      "Read 435 items\n"
     ]
    },
    {
     "data": {
      "image/png": "[encoded data removed]",
      "text/plain": [
       "plot without title"
      ]
     },
     "metadata": {
      "image/png": {
       "height": 420,
       "width": 420
      }
     },
     "output_type": "display_data"
    }
   ],
   "source": [
    "# Get ID and pop info for each individual\n",
    "s<-strsplit(basename(scan(\"all.files\",what=\"theFuck\")),\"\\\\.\")\n",
    "pop<-sapply(s,function(x) x[6])\n",
    "\n",
    "# import some funcitons to help in visualization\n",
    "source(\"/home/genis/software/evalAdmix/visFuns.R\")\n",
    "\n",
    "# Read inferred admixture proportions\n",
    "q<-read.table(\"all.qopt\")\n",
    "\n",
    "# order individuals by population, and within populaiton by admixture proporiton\n",
    "ord <- orderInds(pop=pop,q=q, popord=c(\"YRI\", \"ASW\", \"CEU\", \"MXL\", \"CHB\"))\n",
    "            \n",
    "par(mar=c(7,4,1,1))\n",
    "barplot(t(q)[,ord],col=c(3,2,4),las=2,ylab=\"Admixture proportions\", space=0, border=NA)\n",
    "text(sort(tapply(1:length(pop),pop[ord],mean)),-0.05,unique(pop[ord]),xpd=NA)"
   ]
  },
  {
   "cell_type": "markdown",
   "id": "03f9179c",
   "metadata": {
    "kernel": "R"
   },
   "source": [
    "Note that the order of the individuals in the plot are not the same as in the qopt file. Instead, to provide a better overview, the individuals have been ordered according to the population they are sampled from.\n",
    "\n",
    "- Try to explain what the plot shows (what is on the axes, what do the colors mean and so on)\n",
    "- What does the plot suggest about whether the individuals are admixed?\n",
    "\n",
    "NB As you could tell from the number of loci included in the analysis, the above analysis is based on data from very few loci (actually we on purpose only analyzed data from a small part of the genome to make sure the analysis ran fast). In the following we will redo the analyses using a larger number of sites.\n"
   ]
  },
  {
   "cell_type": "markdown",
   "id": "faec1b7a",
   "metadata": {
    "kernel": "R"
   },
   "source": [
    "## More realistic example\n",
    "\n",
    "Now you know how to make input data to NGSadmix, how to run NGSadmix and what the output looks like. We will try now to run a more realistic dataset, using the same samples with a larger number of sites. We have already made the input file with genotype likelihoods for 100 000 sites across the genome, and a file with populaiton info.\n",
    "\n",
    "\n",
    "- A file with genotype likelihoods from the 100 individuals in beagle format: /ricco/data/genis/popgen22/admixexercise/admixinput/1000G5pops100ksites.beagle.gz\n",
    "- A file with labels that indicate which population they are sampled from: /home/genis/admix_evaluation/ngs/data/1000g_5pops/info/1000G5popSameIndsAsGenos.info\n"
   ]
  },
  {
   "cell_type": "markdown",
   "id": "3d9ed90e",
   "metadata": {
    "kernel": "R"
   },
   "source": [
    "## Run an analysis of the data with NGSadmix\n",
    "\n",
    "We start by running an NGSadmix analyses with K=3 (-K 3), using 10 cpu threads (-P 10) and using only SNPs with minor allele frequency above 0.05 (-minMaf 0.05). Furthermore, to make sure we reach the maximum likelihood solution and not a local optima, we should run 20 independent optimizations runs (-seed i for i in 1:20).\n",
    "\n",
    "(Because running this would be too computationally intense to run everyone at the same time in the server, we have already ran it and the following code just prints the commands you would need to run.)  "
   ]
  },
  {
   "cell_type": "code",
   "execution_count": 19,
   "id": "75ae5445",
   "metadata": {
    "kernel": "Bash"
   },
   "outputs": [
    {
     "name": "stdout",
     "output_type": "stream",
     "text": [
      "/home/ida/teaching/popgen19/admixexercise/programs/NGSadmix -likes /ricco/data/genis/popgen22/admixexercise/admixinput/1000G5pops.inputgl.beagle.gz -K 3 -P 10 -minMaf 0.05 -seed 1 -o /ricco/data/genis/popgen22/admixexercise/admixoutput/1000G5popsAdmixK3seed1\r\n",
      "/home/ida/teaching/popgen19/admixexercise/programs/NGSadmix -likes /ricco/data/genis/popgen22/admixexercise/admixinput/1000G5pops.inputgl.beagle.gz -K 3 -P 10 -minMaf 0.05 -seed 2 -o /ricco/data/genis/popgen22/admixexercise/admixoutput/1000G5popsAdmixK3seed2\r\n",
      "/home/ida/teaching/popgen19/admixexercise/programs/NGSadmix -likes /ricco/data/genis/popgen22/admixexercise/admixinput/1000G5pops.inputgl.beagle.gz -K 3 -P 10 -minMaf 0.05 -seed 3 -o /ricco/data/genis/popgen22/admixexercise/admixoutput/1000G5popsAdmixK3seed3\r\n",
      "/home/ida/teaching/popgen19/admixexercise/programs/NGSadmix -likes /ricco/data/genis/popgen22/admixexercise/admixinput/1000G5pops.inputgl.beagle.gz -K 3 -P 10 -minMaf 0.05 -seed 4 -o /ricco/data/genis/popgen22/admixexercise/admixoutput/1000G5popsAdmixK3seed4\r\n",
      "/home/ida/teaching/popgen19/admixexercise/programs/NGSadmix -likes /ricco/data/genis/popgen22/admixexercise/admixinput/1000G5pops.inputgl.beagle.gz -K 3 -P 10 -minMaf 0.05 -seed 5 -o /ricco/data/genis/popgen22/admixexercise/admixoutput/1000G5popsAdmixK3seed5\r\n",
      "/home/ida/teaching/popgen19/admixexercise/programs/NGSadmix -likes /ricco/data/genis/popgen22/admixexercise/admixinput/1000G5pops.inputgl.beagle.gz -K 3 -P 10 -minMaf 0.05 -seed 6 -o /ricco/data/genis/popgen22/admixexercise/admixoutput/1000G5popsAdmixK3seed6\r\n",
      "/home/ida/teaching/popgen19/admixexercise/programs/NGSadmix -likes /ricco/data/genis/popgen22/admixexercise/admixinput/1000G5pops.inputgl.beagle.gz -K 3 -P 10 -minMaf 0.05 -seed 7 -o /ricco/data/genis/popgen22/admixexercise/admixoutput/1000G5popsAdmixK3seed7\r\n",
      "/home/ida/teaching/popgen19/admixexercise/programs/NGSadmix -likes /ricco/data/genis/popgen22/admixexercise/admixinput/1000G5pops.inputgl.beagle.gz -K 3 -P 10 -minMaf 0.05 -seed 8 -o /ricco/data/genis/popgen22/admixexercise/admixoutput/1000G5popsAdmixK3seed8\r\n",
      "/home/ida/teaching/popgen19/admixexercise/programs/NGSadmix -likes /ricco/data/genis/popgen22/admixexercise/admixinput/1000G5pops.inputgl.beagle.gz -K 3 -P 10 -minMaf 0.05 -seed 9 -o /ricco/data/genis/popgen22/admixexercise/admixoutput/1000G5popsAdmixK3seed9\r\n",
      "/home/ida/teaching/popgen19/admixexercise/programs/NGSadmix -likes /ricco/data/genis/popgen22/admixexercise/admixinput/1000G5pops.inputgl.beagle.gz -K 3 -P 10 -minMaf 0.05 -seed 10 -o /ricco/data/genis/popgen22/admixexercise/admixoutput/1000G5popsAdmixK3seed10\r\n",
      "/home/ida/teaching/popgen19/admixexercise/programs/NGSadmix -likes /ricco/data/genis/popgen22/admixexercise/admixinput/1000G5pops.inputgl.beagle.gz -K 3 -P 10 -minMaf 0.05 -seed 11 -o /ricco/data/genis/popgen22/admixexercise/admixoutput/1000G5popsAdmixK3seed11\r\n",
      "/home/ida/teaching/popgen19/admixexercise/programs/NGSadmix -likes /ricco/data/genis/popgen22/admixexercise/admixinput/1000G5pops.inputgl.beagle.gz -K 3 -P 10 -minMaf 0.05 -seed 12 -o /ricco/data/genis/popgen22/admixexercise/admixoutput/1000G5popsAdmixK3seed12\r\n",
      "/home/ida/teaching/popgen19/admixexercise/programs/NGSadmix -likes /ricco/data/genis/popgen22/admixexercise/admixinput/1000G5pops.inputgl.beagle.gz -K 3 -P 10 -minMaf 0.05 -seed 13 -o /ricco/data/genis/popgen22/admixexercise/admixoutput/1000G5popsAdmixK3seed13\r\n",
      "/home/ida/teaching/popgen19/admixexercise/programs/NGSadmix -likes /ricco/data/genis/popgen22/admixexercise/admixinput/1000G5pops.inputgl.beagle.gz -K 3 -P 10 -minMaf 0.05 -seed 14 -o /ricco/data/genis/popgen22/admixexercise/admixoutput/1000G5popsAdmixK3seed14\r\n",
      "/home/ida/teaching/popgen19/admixexercise/programs/NGSadmix -likes /ricco/data/genis/popgen22/admixexercise/admixinput/1000G5pops.inputgl.beagle.gz -K 3 -P 10 -minMaf 0.05 -seed 15 -o /ricco/data/genis/popgen22/admixexercise/admixoutput/1000G5popsAdmixK3seed15\r\n",
      "/home/ida/teaching/popgen19/admixexercise/programs/NGSadmix -likes /ricco/data/genis/popgen22/admixexercise/admixinput/1000G5pops.inputgl.beagle.gz -K 3 -P 10 -minMaf 0.05 -seed 16 -o /ricco/data/genis/popgen22/admixexercise/admixoutput/1000G5popsAdmixK3seed16\r\n",
      "/home/ida/teaching/popgen19/admixexercise/programs/NGSadmix -likes /ricco/data/genis/popgen22/admixexercise/admixinput/1000G5pops.inputgl.beagle.gz -K 3 -P 10 -minMaf 0.05 -seed 17 -o /ricco/data/genis/popgen22/admixexercise/admixoutput/1000G5popsAdmixK3seed17\r\n",
      "/home/ida/teaching/popgen19/admixexercise/programs/NGSadmix -likes /ricco/data/genis/popgen22/admixexercise/admixinput/1000G5pops.inputgl.beagle.gz -K 3 -P 10 -minMaf 0.05 -seed 18 -o /ricco/data/genis/popgen22/admixexercise/admixoutput/1000G5popsAdmixK3seed18\r\n",
      "/home/ida/teaching/popgen19/admixexercise/programs/NGSadmix -likes /ricco/data/genis/popgen22/admixexercise/admixinput/1000G5pops.inputgl.beagle.gz -K 3 -P 10 -minMaf 0.05 -seed 19 -o /ricco/data/genis/popgen22/admixexercise/admixoutput/1000G5popsAdmixK3seed19\r\n",
      "/home/ida/teaching/popgen19/admixexercise/programs/NGSadmix -likes /ricco/data/genis/popgen22/admixexercise/admixinput/1000G5pops.inputgl.beagle.gz -K 3 -P 10 -minMaf 0.05 -seed 20 -o /ricco/data/genis/popgen22/admixexercise/admixoutput/1000G5popsAdmixK3seed20\r\n",
      "\n"
     ]
    }
   ],
   "source": [
    "inputpath=/ricco/data/genis/popgen22/admixexercise/admixinput/1000G5pops.inputgl.beagle.gz\n",
    "outpath=/ricco/data/genis/popgen22/admixexercise/admixoutput\n",
    "K=3\n",
    "\n",
    "for i in `seq 1 20`\n",
    "do\n",
    "    echo \"$NGSadmix -likes $inputpath -K $K -P 10 -minMaf 0.05 -seed $i -o ${outpath}/1000G5popsAdmixK${K}seed${i}\"\n",
    "done\n"
   ]
  },
  {
   "cell_type": "markdown",
   "id": "291ce01c",
   "metadata": {
    "kernel": "Bash"
   },
   "source": [
    "This will produce 20 NGSadmix results with their corresponding output files. In order to assess convergence and find the run with the best log likelihood, we need to check the log likelihoods of the data. This command with extract the log likelihood of each run from the log file, add the seed and sort them from the best to the worse log likelihood."
   ]
  },
  {
   "cell_type": "code",
   "execution_count": 20,
   "id": "4e06d239",
   "metadata": {
    "kernel": "Bash"
   },
   "outputs": [
    {
     "name": "stdout",
     "output_type": "stream",
     "text": [
      "     3\t-34941707.471918\r\n",
      "    16\t-34941707.578680\r\n",
      "     7\t-34941707.737304\r\n",
      "    18\t-34941707.948875\r\n",
      "     2\t-34941707.989102\r\n",
      "     5\t-34941708.085802\r\n",
      "    14\t-34941708.105071\r\n",
      "    10\t-34941708.189336\r\n",
      "    17\t-34941708.223968\r\n",
      "    11\t-34941708.264658\r\n",
      "     1\t-34941708.271672\r\n",
      "    19\t-34941708.277761\r\n",
      "    13\t-34941708.301470\r\n",
      "     6\t-34941708.325179\r\n",
      "    12\t-34941708.327209\r\n",
      "     8\t-34941708.330550\r\n",
      "    20\t-34941708.390396\r\n",
      "     4\t-34941708.432519\r\n",
      "     9\t-34941708.447228\r\n",
      "    15\t-34941708.730805\r\n",
      "\n"
     ]
    }
   ],
   "source": [
    "outadmix=/ricco/data/genis/popgen22/admixexercise/admixoutput/1000G5popsAdmix\n",
    "K=3\n",
    "\n",
    "rm allK$K.likes\n",
    "for i in `seq 1 20`\n",
    "do \n",
    "    cat ${outadmix}K${K}seed$i.log | grep \"best like\" | awk -F\"[ =]\" '{print $3}' >> allK$K.likes\n",
    "done\n",
    "\n",
    "cat -n allK$K.likes | sort -rhk2"
   ]
  },
  {
   "cell_type": "markdown",
   "id": "742c5c83",
   "metadata": {
    "kernel": "Bash"
   },
   "source": [
    "- Does it look like most runs reliably converge to the same global optimum?\n",
    "\n",
    "We continue by visualizing the results of the maximum likelihood run (all runs reached the same optimum, so we would see the same results regardless of which one we plotted)."
   ]
  },
  {
   "cell_type": "code",
   "execution_count": 21,
   "id": "66dfad55",
   "metadata": {
    "kernel": "R"
   },
   "outputs": [
    {
     "data": {
      "image/png": "[encoded data removed]",
      "text/plain": [
       "plot without title"
      ]
     },
     "metadata": {
      "image/png": {
       "height": 420,
       "width": 420
      }
     },
     "output_type": "display_data"
    }
   ],
   "source": [
    "source(\"/home/genis/software/evalAdmix/visFuns.R\") # import some funcitons to help in visualization\n",
    "pop<-read.table(\"/ricco/data/genis/popgen22/admixexercise/admixinput/1000G5pops.pop.info\",as.is=T)\n",
    "q<-read.table(\"/ricco/data/genis/popgen22/admixexercise/admixoutput/1000G5popsAdmixK3seed3.qopt\")\n",
    "\n",
    "\n",
    "ord<-orderInds(pop = pop[,1], q=q) # sort indiivduals by population and within populaoitn by admixture proportion\n",
    "\n",
    "barplot(t(q)[,ord],col=2:10,space=0,border=NA,xlab=\"Individuals\",ylab=\"Admixture proportions\")\n",
    "text(sort(tapply(1:nrow(pop),pop[ord,1],mean)),-0.05,unique(pop[ord,1]),xpd=T) # add population labels\n",
    "abline(v=cumsum(sapply(unique(pop[ord,1]),function(x){sum(pop[ord,1]==x)})),col=1,lwd=1.2)"
   ]
  },
  {
   "cell_type": "markdown",
   "id": "248bbf20",
   "metadata": {
    "kernel": "R"
   },
   "source": [
    "- Why do you think it looks cleaner than the previous admixture plot we visualized with the same individuals?\n",
    "- How many populations would you say now are admixed? Which population seem to be the admixture source? Does that make sense given what you know of these populations?"
   ]
  },
  {
   "cell_type": "markdown",
   "id": "ec89fc14",
   "metadata": {
    "kernel": "R"
   },
   "source": [
    "## Assessing model fit\n",
    "\n",
    "We will now use evalAdmix to assess if the ancestries inferred in our admixture results are a good approximation to the correct ancestries.\n",
    "\n",
    "Again, due to time and computational limitations, we have already ran the command and just provide here the command used:"
   ]
  },
  {
   "cell_type": "code",
   "execution_count": 22,
   "id": "b3240bed",
   "metadata": {
    "kernel": "Bash"
   },
   "outputs": [
    {
     "name": "stdout",
     "output_type": "stream",
     "text": [
      "/home/genis/software/evalAdmix/evalAdmix -beagle /ricco/data/genis/popgen22/admixexercise/admixinput/1000G5pops.inputgl.beagle.gz -fname /ricco/data/genis/popgen22/admixexercise/admixoutput/1000G5popsAdmixK3seed3.fopt.gz -qname /ricco/data/genis/popgen22/admixexercise/admixoutput/1000G5popsAdmixK3seed3.qopt -o /ricco/data/genis/popgen22/admixexercise/evaladmixoutput/1000G5pops.K3seed3.corres -P 20\r\n",
      "\n"
     ]
    }
   ],
   "source": [
    "EVALADMIX=/home/genis/software/evalAdmix/evalAdmix\n",
    "\n",
    "K=3\n",
    "besti=3\n",
    "inbgl=/ricco/data/genis/popgen22/admixexercise/admixinput/1000G5pops.inputgl.beagle.gz\n",
    "inadmix=/ricco/data/genis/popgen22/admixexercise/admixoutput/1000G5popsAdmixK${K}seed${besti}\n",
    "out=/ricco/data/genis/popgen22/admixexercise/evaladmixoutput/1000G5pops.K${K}seed${besti}.corres\n",
    "\n",
    "echo \"$EVALADMIX -beagle $inbgl -fname ${inadmix}.fopt.gz -qname ${inadmix}.qopt -o $out -P 20\""
   ]
  },
  {
   "cell_type": "markdown",
   "id": "b8f1e842",
   "metadata": {
    "kernel": "Bash"
   },
   "source": [
    "We will now visualize the correlation of residuals estimated by evalAdmix, and use it to assess whether the estimated admixture proportions results are a good fit to the data."
   ]
  },
  {
   "cell_type": "code",
   "execution_count": 27,
   "id": "e85cd9cb",
   "metadata": {
    "kernel": "R"
   },
   "outputs": [
    {
     "data": {
      "image/png": "[encoded data removed]",
      "text/plain": [
       "Plot with title “”"
      ]
     },
     "metadata": {
      "image/png": {
       "height": 420,
       "width": 420
      }
     },
     "output_type": "display_data"
    }
   ],
   "source": [
    "source(\"/home/genis/software/evalAdmix/visFuns.R\") # import some funcitons to help in visualization\n",
    "\n",
    "pop<-read.table(\"/ricco/data/genis/popgen22/admixexercise/admixinput/1000G5pops.pop.info\",as.is=T)\n",
    "q<-read.table(\"/ricco/data/genis/popgen22/admixexercise/admixoutput/1000G5popsAdmixK3seed3.qopt\")\n",
    "r <- as.matrix(read.table(\"/ricco/data/genis/popgen22/admixexercise/evaladmixoutput/1000G5pops.K3seed3.corres\"))\n",
    "\n",
    "ord<-orderInds(pop = pop[,1], q=q) # sort indiivduals by population and within populaoitn by admixture proportion\n",
    "\n",
    "plotCorRes(r, pop=pop[,1], ord=ord, max_z = 0.2)"
   ]
  },
  {
   "cell_type": "markdown",
   "id": "3f7317ab",
   "metadata": {
    "kernel": "R"
   },
   "source": [
    "- Is there any population for which the estimated admixture proportions do not seem to have a good fit?\n",
    "- Looking at the admixture proportions plot, can you think of a reason why that population might not be correctly modelled?"
   ]
  },
  {
   "cell_type": "markdown",
   "id": "b320c8b6",
   "metadata": {
    "kernel": "R"
   },
   "source": [
    "## Trying other values of K\n",
    "\n",
    "We will now do again the analyses but using 4 instead of 3 ancestral populations. We start by doing 20 independent runs of NGSadmix, with the same setting except that this time we use K = 4. We then collect the likelihoods form the log files and look at them to assess if the optimization has converged to the global maximum likelihood.\n",
    "\n",
    "(Again, the analyses has already been run and we just provide the code to print the commands)."
   ]
  },
  {
   "cell_type": "code",
   "execution_count": 28,
   "id": "f0c7488a",
   "metadata": {
    "kernel": "Bash",
    "scrolled": true
   },
   "outputs": [
    {
     "name": "stdout",
     "output_type": "stream",
     "text": [
      "/home/ida/teaching/popgen19/admixexercise/programs/NGSadmix -likes /ricco/data/genis/popgen22/admixexercise/admixinput/1000G5pops.inputgl.beagle.gz -K 4 -P 10 -minMaf 0.05 -seed 1 -o /ricco/data/genis/popgen22/admixexercise/admixoutput/1000G5popsAdmixK4seed1\r\n",
      "/home/ida/teaching/popgen19/admixexercise/programs/NGSadmix -likes /ricco/data/genis/popgen22/admixexercise/admixinput/1000G5pops.inputgl.beagle.gz -K 4 -P 10 -minMaf 0.05 -seed 2 -o /ricco/data/genis/popgen22/admixexercise/admixoutput/1000G5popsAdmixK4seed2\r\n",
      "/home/ida/teaching/popgen19/admixexercise/programs/NGSadmix -likes /ricco/data/genis/popgen22/admixexercise/admixinput/1000G5pops.inputgl.beagle.gz -K 4 -P 10 -minMaf 0.05 -seed 3 -o /ricco/data/genis/popgen22/admixexercise/admixoutput/1000G5popsAdmixK4seed3\r\n",
      "/home/ida/teaching/popgen19/admixexercise/programs/NGSadmix -likes /ricco/data/genis/popgen22/admixexercise/admixinput/1000G5pops.inputgl.beagle.gz -K 4 -P 10 -minMaf 0.05 -seed 4 -o /ricco/data/genis/popgen22/admixexercise/admixoutput/1000G5popsAdmixK4seed4\r\n",
      "/home/ida/teaching/popgen19/admixexercise/programs/NGSadmix -likes /ricco/data/genis/popgen22/admixexercise/admixinput/1000G5pops.inputgl.beagle.gz -K 4 -P 10 -minMaf 0.05 -seed 5 -o /ricco/data/genis/popgen22/admixexercise/admixoutput/1000G5popsAdmixK4seed5\r\n",
      "/home/ida/teaching/popgen19/admixexercise/programs/NGSadmix -likes /ricco/data/genis/popgen22/admixexercise/admixinput/1000G5pops.inputgl.beagle.gz -K 4 -P 10 -minMaf 0.05 -seed 6 -o /ricco/data/genis/popgen22/admixexercise/admixoutput/1000G5popsAdmixK4seed6\r\n",
      "/home/ida/teaching/popgen19/admixexercise/programs/NGSadmix -likes /ricco/data/genis/popgen22/admixexercise/admixinput/1000G5pops.inputgl.beagle.gz -K 4 -P 10 -minMaf 0.05 -seed 7 -o /ricco/data/genis/popgen22/admixexercise/admixoutput/1000G5popsAdmixK4seed7\r\n",
      "/home/ida/teaching/popgen19/admixexercise/programs/NGSadmix -likes /ricco/data/genis/popgen22/admixexercise/admixinput/1000G5pops.inputgl.beagle.gz -K 4 -P 10 -minMaf 0.05 -seed 8 -o /ricco/data/genis/popgen22/admixexercise/admixoutput/1000G5popsAdmixK4seed8\r\n",
      "/home/ida/teaching/popgen19/admixexercise/programs/NGSadmix -likes /ricco/data/genis/popgen22/admixexercise/admixinput/1000G5pops.inputgl.beagle.gz -K 4 -P 10 -minMaf 0.05 -seed 9 -o /ricco/data/genis/popgen22/admixexercise/admixoutput/1000G5popsAdmixK4seed9\r\n",
      "/home/ida/teaching/popgen19/admixexercise/programs/NGSadmix -likes /ricco/data/genis/popgen22/admixexercise/admixinput/1000G5pops.inputgl.beagle.gz -K 4 -P 10 -minMaf 0.05 -seed 10 -o /ricco/data/genis/popgen22/admixexercise/admixoutput/1000G5popsAdmixK4seed10\r\n",
      "/home/ida/teaching/popgen19/admixexercise/programs/NGSadmix -likes /ricco/data/genis/popgen22/admixexercise/admixinput/1000G5pops.inputgl.beagle.gz -K 4 -P 10 -minMaf 0.05 -seed 11 -o /ricco/data/genis/popgen22/admixexercise/admixoutput/1000G5popsAdmixK4seed11\r\n",
      "/home/ida/teaching/popgen19/admixexercise/programs/NGSadmix -likes /ricco/data/genis/popgen22/admixexercise/admixinput/1000G5pops.inputgl.beagle.gz -K 4 -P 10 -minMaf 0.05 -seed 12 -o /ricco/data/genis/popgen22/admixexercise/admixoutput/1000G5popsAdmixK4seed12\r\n",
      "/home/ida/teaching/popgen19/admixexercise/programs/NGSadmix -likes /ricco/data/genis/popgen22/admixexercise/admixinput/1000G5pops.inputgl.beagle.gz -K 4 -P 10 -minMaf 0.05 -seed 13 -o /ricco/data/genis/popgen22/admixexercise/admixoutput/1000G5popsAdmixK4seed13\r\n",
      "/home/ida/teaching/popgen19/admixexercise/programs/NGSadmix -likes /ricco/data/genis/popgen22/admixexercise/admixinput/1000G5pops.inputgl.beagle.gz -K 4 -P 10 -minMaf 0.05 -seed 14 -o /ricco/data/genis/popgen22/admixexercise/admixoutput/1000G5popsAdmixK4seed14\r\n",
      "/home/ida/teaching/popgen19/admixexercise/programs/NGSadmix -likes /ricco/data/genis/popgen22/admixexercise/admixinput/1000G5pops.inputgl.beagle.gz -K 4 -P 10 -minMaf 0.05 -seed 15 -o /ricco/data/genis/popgen22/admixexercise/admixoutput/1000G5popsAdmixK4seed15\r\n",
      "/home/ida/teaching/popgen19/admixexercise/programs/NGSadmix -likes /ricco/data/genis/popgen22/admixexercise/admixinput/1000G5pops.inputgl.beagle.gz -K 4 -P 10 -minMaf 0.05 -seed 16 -o /ricco/data/genis/popgen22/admixexercise/admixoutput/1000G5popsAdmixK4seed16\r\n",
      "/home/ida/teaching/popgen19/admixexercise/programs/NGSadmix -likes /ricco/data/genis/popgen22/admixexercise/admixinput/1000G5pops.inputgl.beagle.gz -K 4 -P 10 -minMaf 0.05 -seed 17 -o /ricco/data/genis/popgen22/admixexercise/admixoutput/1000G5popsAdmixK4seed17\r\n",
      "/home/ida/teaching/popgen19/admixexercise/programs/NGSadmix -likes /ricco/data/genis/popgen22/admixexercise/admixinput/1000G5pops.inputgl.beagle.gz -K 4 -P 10 -minMaf 0.05 -seed 18 -o /ricco/data/genis/popgen22/admixexercise/admixoutput/1000G5popsAdmixK4seed18\r\n",
      "/home/ida/teaching/popgen19/admixexercise/programs/NGSadmix -likes /ricco/data/genis/popgen22/admixexercise/admixinput/1000G5pops.inputgl.beagle.gz -K 4 -P 10 -minMaf 0.05 -seed 19 -o /ricco/data/genis/popgen22/admixexercise/admixoutput/1000G5popsAdmixK4seed19\r\n",
      "/home/ida/teaching/popgen19/admixexercise/programs/NGSadmix -likes /ricco/data/genis/popgen22/admixexercise/admixinput/1000G5pops.inputgl.beagle.gz -K 4 -P 10 -minMaf 0.05 -seed 20 -o /ricco/data/genis/popgen22/admixexercise/admixoutput/1000G5popsAdmixK4seed20\r\n",
      "     9\t-34654597.394711\r\n",
      "    11\t-34654597.515125\r\n",
      "    18\t-34654597.670429\r\n",
      "     8\t-34654597.952226\r\n",
      "    14\t-34654598.071523\r\n",
      "    15\t-34654598.103667\r\n",
      "    12\t-34654598.140408\r\n",
      "     6\t-34654598.168480\r\n",
      "     7\t-34654598.240863\r\n",
      "     2\t-34654598.267312\r\n",
      "     5\t-34654598.331777\r\n",
      "     1\t-34654598.381587\r\n",
      "     4\t-34654598.408025\r\n",
      "    13\t-34654598.584358\r\n",
      "    17\t-34654598.753065\r\n",
      "    19\t-34654599.566582\r\n",
      "     3\t-34654599.613498\r\n",
      "    10\t-34654600.335350\r\n",
      "    16\t-34654601.539070\r\n",
      "    20\t-34654603.772069\r\n",
      "\n"
     ]
    }
   ],
   "source": [
    "inputpath=/ricco/data/genis/popgen22/admixexercise/admixinput/1000G5pops.inputgl.beagle.gz\n",
    "outpath=/ricco/data/genis/popgen22/admixexercise/admixoutput\n",
    "K=4\n",
    "\n",
    "for i in `seq 1 20`\n",
    "do\n",
    "    echo \"$NGSadmix -likes $inputpath -K $K -P 10 -minMaf 0.05 -seed $i -o ${outpath}/1000G5popsAdmixK${K}seed${i}\"\n",
    "done\n",
    "\n",
    "outadmix=/ricco/data/genis/popgen22/admixexercise/admixoutput/1000G5popsAdmix\n",
    "rm allK${K}.likes\n",
    "for i in `seq 1 20`\n",
    "do \n",
    "    cat ${outadmix}K${K}seed$i.log | grep \"best like\" | awk -F\"[ =]\" '{print $3}' >> allK${K}.likes\n",
    "done\n",
    "\n",
    "cat -n allK${K}.likes | sort -rhk2"
   ]
  },
  {
   "cell_type": "markdown",
   "id": "9828d34a",
   "metadata": {
    "kernel": "Bash"
   },
   "source": [
    "- Does it look like it has converged?\n",
    "- Can you guess why there seems to be slightly more variability in the log likelihood of different runs than when using K=3?\n",
    "\n",
    "We will now run evalAdmix to assess the model fit of the best admixture run (again, it has been pre ran and we just print the command):"
   ]
  },
  {
   "cell_type": "code",
   "execution_count": null,
   "id": "b5f8022e",
   "metadata": {
    "kernel": "Bash"
   },
   "outputs": [],
   "source": [
    "EVALADMIX=/home/genis/software/evalAdmix/evalAdmix\n",
    "\n",
    "K=4\n",
    "besti=9\n",
    "inbgl=/ricco/data/genis/popgen22/admixexercise/admixinput/1000G5pops.inputgl.beagle.gz\n",
    "inadmix=/ricco/data/genis/popgen22/admixexercise/admixoutput/1000G5popsAdmixK${K}seed${besti}\n",
    "out=/ricco/data/genis/popgen22/admixexercise/evaladmixoutput/1000G5pops.K${K}seed${besti}.corres\n",
    "\n",
    "echo \"$EVALADMIX -beagle $inbgl -fname ${inadmix}.fopt.gz -qname ${inadmix}.qopt -o $out -P 20\""
   ]
  },
  {
   "cell_type": "markdown",
   "id": "06e964f7",
   "metadata": {
    "kernel": "Bash"
   },
   "source": [
    "We will now visualize the estimated admixture proporitons and the correlation of residuals to assess their fit:"
   ]
  },
  {
   "cell_type": "code",
   "execution_count": 30,
   "id": "a3b66eaf",
   "metadata": {
    "kernel": "R"
   },
   "outputs": [
    {
     "data": {
      "image/png": "[encoded data removed]",
      "text/plain": [
       "plot without title"
      ]
     },
     "metadata": {
      "image/png": {
       "height": 420,
       "width": 420
      }
     },
     "output_type": "display_data"
    },
    {
     "data": {
      "image/png": "[encoded data removed]",
      "text/plain": [
       "Plot with title “”"
      ]
     },
     "metadata": {
      "image/png": {
       "height": 420,
       "width": 420
      }
     },
     "output_type": "display_data"
    }
   ],
   "source": [
    "source(\"/home/genis/software/evalAdmix/visFuns.R\") # import some funcitons to help in visualization\n",
    "pop<-read.table(\"/ricco/data/genis/popgen22/admixexercise/admixinput/1000G5pops.pop.info\",as.is=T)\n",
    "q<-read.table(\"/ricco/data/genis/popgen22/admixexercise/admixoutput/1000G5popsAdmixK4seed9.qopt\")\n",
    "\n",
    "\n",
    "ord<-orderInds(pop = pop[,1], q=q) # sort indiivduals by population and within populaoitn by admixture proportion\n",
    "\n",
    "# plot admixture proportions\n",
    "barplot(t(q)[,ord],col=c(5,4,2,3),space=0,border=NA,xlab=\"Individuals\",ylab=\"Admixture proportions\")\n",
    "text(sort(tapply(1:nrow(pop),pop[ord,1],mean)),-0.05,unique(pop[ord,1]),xpd=T) # add population labels\n",
    "abline(v=cumsum(sapply(unique(pop[ord,1]),function(x){sum(pop[ord,1]==x)})),col=1,lwd=1.2)\n",
    "\n",
    "r <- as.matrix(read.table(\"/ricco/data/genis/popgen22/admixexercise/evaladmixoutput/1000G5pops.K4seed9.corres\"))\n",
    "plotCorRes(r, pop=pop[,1], ord=ord, max_z = 0.2)"
   ]
  },
  {
   "cell_type": "markdown",
   "id": "9aaeff50",
   "metadata": {
    "kernel": "R"
   },
   "source": [
    "- To what population corresponds the new cluster that we have added?\n",
    "- Based on the correlation of residuals, would you say adding that cluster has given a significant improvement to the model fit?"
   ]
  }
 ],
 "metadata": {
  "kernelspec": {
   "display_name": "SoS",
   "language": "sos",
   "name": "sos"
  },
  "language_info": {
   "codemirror_mode": "sos",
   "file_extension": ".sos",
   "mimetype": "text/x-sos",
   "name": "sos",
   "nbconvert_exporter": "sos_notebook.converter.SoS_Exporter",
   "pygments_lexer": "sos"
  },
  "sos": {
   "kernels": [
    [
     "Bash",
     "calysto_bash",
     "Bash",
     "#E6EEFF",
     ""
    ],
    [
     "R",
     "ir",
     "R",
     "#DCDCDA",
     "r"
    ]
   ],
   "panel": {
    "displayed": false,
    "height": 0
   },
   "version": "0.22.9"
  }
 },
 "nbformat": 4,
 "nbformat_minor": 5
}
